{
 "cells": [
  {
   "cell_type": "markdown",
   "metadata": {},
   "source": [
    "## Urban Sounds Classification  \n",
    "### Neural Net,  AdaBoost, Bagging"
   ]
  },
  {
   "cell_type": "code",
   "execution_count": 91,
   "metadata": {
    "collapsed": false
   },
   "outputs": [],
   "source": [
    "import math\n",
    "import matplotlib.pyplot as plt\n",
    "import numpy as np\n",
    "import pandas as pd\n",
    "import skflow\n",
    "\n",
    "from collections import Counter\n",
    "from sklearn import datasets, metrics, cross_validation\n",
    "from sklearn.cross_validation import train_test_split\n",
    "from sklearn.ensemble import AdaBoostClassifier\n",
    "from sklearn.ensemble import BaggingClassifier\n",
    "from sklearn.metrics import accuracy_score, precision_score, recall_score, f1_score\n",
    "from sklearn.metrics import confusion_matrix, mean_squared_error\n",
    "from sklearn.preprocessing import LabelEncoder, StandardScaler\n",
    "from sklearn.tree import DecisionTreeClassifier\n",
    "\n",
    "%matplotlib inline"
   ]
  },
  {
   "cell_type": "code",
   "execution_count": 122,
   "metadata": {
    "collapsed": true
   },
   "outputs": [],
   "source": [
    "def plotHeatmap(y_actual, y_pred, y_labels, printCF=False):\n",
    "    y_counts = np.asarray(Counter(y_actual).values())\n",
    "    confMat = confusion_matrix(y_true=y_test, y_pred=y_pred)\n",
    "    if printCF:\n",
    "        print(confMat)\n",
    "    confMatNorm = np.true_divide(confMat, y_counts)\n",
    "    \n",
    "    fig, ax = plt.subplots()\n",
    "    heatmap = ax.pcolor(confMatNorm, cmap=plt.cm.jet, vmin=0, vmax=1)\n",
    "\n",
    "    # locate ticks\n",
    "    ax.set_xticks(np.arange(confMatNorm.shape[0])+0.5, minor=False)\n",
    "    ax.set_yticks(np.arange(confMatNorm.shape[1])+0.5, minor=False)\n",
    "\n",
    "    # move x ticks to top\n",
    "    ax.invert_yaxis()\n",
    "    ax.xaxis.tick_top()\n",
    "\n",
    "    ax.set_xticklabels(y_labels, minor=False, rotation='vertical')\n",
    "    ax.set_yticklabels(y_labels, minor=False)\n",
    "\n",
    "    #ax.set_xlabel('Predicted Class')\n",
    "    ax.set_ylabel('Actual Class')\n",
    "\n",
    "    plt.show()"
   ]
  },
  {
   "cell_type": "code",
   "execution_count": 2,
   "metadata": {
    "collapsed": false
   },
   "outputs": [],
   "source": [
    "# Import Pre-Processed Wav File Data Set\n",
    "wavData = pd.read_csv('feature_quant.csv')\n",
    "\n",
    "# Remove Empty Rows\n",
    "wavData = wavData[-np.isnan(wavData['mean'])]"
   ]
  },
  {
   "cell_type": "code",
   "execution_count": 3,
   "metadata": {
    "collapsed": false
   },
   "outputs": [
    {
     "name": "stdout",
     "output_type": "stream",
     "text": [
      "611\n",
      "   Unnamed: 0          std      mean    power2    power7    power5   kurtosis  \\\n",
      "0  100032.wav  5387.262558 -0.173201  0.218719  0.021339  0.107915   8.378661   \n",
      "1  100263.wav   172.622405 -2.877835  0.077798  0.102353  0.091911  10.631201   \n",
      "\n",
      "   skewness   power10    power4    power9    power6    power1    power8  \\\n",
      "0  0.290676  0.004058  0.286047  0.007275  0.049451  0.030802  0.011321   \n",
      "1 -0.037141  0.094223  0.112095  0.095986  0.145623  0.082727  0.108314   \n",
      "\n",
      "              class    power3  \n",
      "0          dog_bark  0.263073  \n",
      "1  children_playing  0.088970  \n"
     ]
    }
   ],
   "source": [
    "print len(wavData)\n",
    "print wavData[0:2]"
   ]
  },
  {
   "cell_type": "code",
   "execution_count": 7,
   "metadata": {
    "collapsed": false
   },
   "outputs": [],
   "source": [
    "# create feature (only) array by dropping index and class columns\n",
    "feat = list(wavData.columns)\n",
    "feat.remove('class')\n",
    "feat.remove('Unnamed: 0')"
   ]
  },
  {
   "cell_type": "code",
   "execution_count": 95,
   "metadata": {
    "collapsed": false
   },
   "outputs": [],
   "source": [
    "# convert class labels to numeric category 0-9\n",
    "le = LabelEncoder()\n",
    "y = wavData.loc[:,'class']\n",
    "y = le.fit_transform(y)\n",
    "y_labels = list(le.classes_)"
   ]
  },
  {
   "cell_type": "code",
   "execution_count": 9,
   "metadata": {
    "collapsed": false
   },
   "outputs": [
    {
     "data": {
      "text/plain": [
       "(427, 14)"
      ]
     },
     "execution_count": 9,
     "metadata": {},
     "output_type": "execute_result"
    }
   ],
   "source": [
    "# split data into training and testing sets\n",
    "X_train, X_test, y_train, y_test = train_test_split(wavData.loc[:,feat], y, \\\n",
    "                                                    test_size=0.3, random_state=0)\n",
    "X_train.shape"
   ]
  },
  {
   "cell_type": "code",
   "execution_count": 10,
   "metadata": {
    "collapsed": true
   },
   "outputs": [],
   "source": [
    "# scale data according to training set distribution\n",
    "sc = StandardScaler()\n",
    "sc=sc.fit(X_train)\n",
    "X_train_std = sc.transform(X_train)\n",
    "X_test_std = sc.transform(X_test)"
   ]
  },
  {
   "cell_type": "markdown",
   "metadata": {},
   "source": [
    "### Neural Network  \n",
    "Results with 10000 steps with learning rates 0.1, 0.01, 0.001:  \n",
    "  \n",
    "5 hidden units - 0.266, 0.239  \n",
    "7 hidden units - ****0.348****, 0.266 (20000 steps, 0.1 learning rate: 0.288)  \n",
    "10 hidden units - 0.266, 0.304  \n",
    "30 hidden units - 0.250, 0.299  \n",
    "50 hidden units - 0.277, 0.315  \n",
    "100 hidden units - 0.250, 0.321 (20000 steps, 0.01 learning rate: 0.310)  \n",
    "  \n",
    "[5,10,5] hidden units - 0.254, 0.310 (20000 steps, 0.01 learning rate: 0.310)  \n",
    "[10,20,10] hidden units - 0.293, 0.304 (20000 steps, 0.01 learning rate: 0.293)  \n",
    "[30,60,30] hidden units - 0.304, 0.261 (20000 steps, 0.1 learning rate: 0.310)  \n",
    "[50,100,50] hidden units - 0.283, 0.283  "
   ]
  },
  {
   "cell_type": "code",
   "execution_count": 40,
   "metadata": {
    "collapsed": false
   },
   "outputs": [
    {
     "name": "stdout",
     "output_type": "stream",
     "text": [
      "Step #100, epoch #7, avg. train loss: 2.27826\n",
      "Step #200, epoch #14, avg. train loss: 2.01109\n",
      "Step #300, epoch #21, avg. train loss: 1.94619\n",
      "Step #400, epoch #28, avg. train loss: 1.88617\n",
      "Step #500, epoch #35, avg. train loss: 1.86631\n",
      "Step #600, epoch #42, avg. train loss: 1.84755\n",
      "Step #700, epoch #50, avg. train loss: 1.82315\n",
      "Step #800, epoch #57, avg. train loss: 1.79981\n",
      "Step #900, epoch #64, avg. train loss: 1.77271\n",
      "Step #1000, epoch #71, avg. train loss: 1.75846\n",
      "Step #1100, epoch #78, avg. train loss: 1.75028\n",
      "Step #1200, epoch #85, avg. train loss: 1.72983\n",
      "Step #1300, epoch #92, avg. train loss: 1.70977\n",
      "Step #1400, epoch #100, avg. train loss: 1.70712\n",
      "Step #1500, epoch #107, avg. train loss: 1.68873\n",
      "Step #1600, epoch #114, avg. train loss: 1.67932\n",
      "Step #1700, epoch #121, avg. train loss: 1.66595\n",
      "Step #1800, epoch #128, avg. train loss: 1.66455\n",
      "Step #1900, epoch #135, avg. train loss: 1.65475\n",
      "Step #2000, epoch #142, avg. train loss: 1.65737\n",
      "Step #2100, epoch #150, avg. train loss: 1.63866\n",
      "Step #2200, epoch #157, avg. train loss: 1.64486\n",
      "Step #2300, epoch #164, avg. train loss: 1.62802\n",
      "Step #2400, epoch #171, avg. train loss: 1.63887\n",
      "Step #2500, epoch #178, avg. train loss: 1.62030\n",
      "Step #2600, epoch #185, avg. train loss: 1.63112\n",
      "Step #2700, epoch #192, avg. train loss: 1.61632\n",
      "Step #2800, epoch #200, avg. train loss: 1.62799\n",
      "Step #2900, epoch #207, avg. train loss: 1.60921\n",
      "Step #3000, epoch #214, avg. train loss: 1.61348\n",
      "Step #3100, epoch #221, avg. train loss: 1.62035\n",
      "Step #3200, epoch #228, avg. train loss: 1.61625\n",
      "Step #3300, epoch #235, avg. train loss: 1.60747\n",
      "Step #3400, epoch #242, avg. train loss: 1.61538\n",
      "Step #3500, epoch #250, avg. train loss: 1.60639\n",
      "Step #3600, epoch #257, avg. train loss: 1.60141\n",
      "Step #3700, epoch #264, avg. train loss: 1.61751\n",
      "Step #3800, epoch #271, avg. train loss: 1.60835\n",
      "Step #3900, epoch #278, avg. train loss: 1.60576\n",
      "Step #4000, epoch #285, avg. train loss: 1.59454\n",
      "Step #4100, epoch #292, avg. train loss: 1.59773\n",
      "Step #4200, epoch #300, avg. train loss: 1.60722\n",
      "Step #4300, epoch #307, avg. train loss: 1.58097\n",
      "Step #4400, epoch #314, avg. train loss: 1.60403\n",
      "Step #4500, epoch #321, avg. train loss: 1.60249\n",
      "Step #4600, epoch #328, avg. train loss: 1.59964\n",
      "Step #4700, epoch #335, avg. train loss: 1.61633\n",
      "Step #4800, epoch #342, avg. train loss: 1.58888\n",
      "Step #4900, epoch #350, avg. train loss: 1.58933\n",
      "Step #5000, epoch #357, avg. train loss: 1.59089\n",
      "Step #5100, epoch #364, avg. train loss: 1.58505\n",
      "Step #5200, epoch #371, avg. train loss: 1.59058\n",
      "Step #5300, epoch #378, avg. train loss: 1.59016\n",
      "Step #5400, epoch #385, avg. train loss: 1.58021\n",
      "Step #5500, epoch #392, avg. train loss: 1.57912\n",
      "Step #5600, epoch #400, avg. train loss: 1.58824\n",
      "Step #5700, epoch #407, avg. train loss: 1.57666\n",
      "Step #5800, epoch #414, avg. train loss: 1.59171\n",
      "Step #5900, epoch #421, avg. train loss: 1.58193\n",
      "Step #6000, epoch #428, avg. train loss: 1.57230\n",
      "Step #6100, epoch #435, avg. train loss: 1.59731\n",
      "Step #6200, epoch #442, avg. train loss: 1.59118\n",
      "Step #6300, epoch #450, avg. train loss: 1.56655\n",
      "Step #6400, epoch #457, avg. train loss: 1.60200\n",
      "Step #6500, epoch #464, avg. train loss: 1.59991\n",
      "Step #6600, epoch #471, avg. train loss: 1.58227\n",
      "Step #6700, epoch #478, avg. train loss: 1.59474\n",
      "Step #6800, epoch #485, avg. train loss: 1.57926\n",
      "Step #6900, epoch #492, avg. train loss: 1.58179\n",
      "Step #7000, epoch #500, avg. train loss: 1.58940\n",
      "Step #7100, epoch #507, avg. train loss: 1.57484\n",
      "Step #7200, epoch #514, avg. train loss: 1.58127\n",
      "Step #7300, epoch #521, avg. train loss: 1.58429\n",
      "Step #7400, epoch #528, avg. train loss: 1.57939\n",
      "Step #7500, epoch #535, avg. train loss: 1.58381\n",
      "Step #7600, epoch #542, avg. train loss: 1.59102\n",
      "Step #7700, epoch #550, avg. train loss: 1.58039\n",
      "Step #7800, epoch #557, avg. train loss: 1.58920\n",
      "Step #7900, epoch #564, avg. train loss: 1.57094\n",
      "Step #8000, epoch #571, avg. train loss: 1.57627\n",
      "Step #8100, epoch #578, avg. train loss: 1.57265\n",
      "Step #8200, epoch #585, avg. train loss: 1.59129\n",
      "Step #8300, epoch #592, avg. train loss: 1.58768\n",
      "Step #8400, epoch #600, avg. train loss: 1.57438\n",
      "Step #8500, epoch #607, avg. train loss: 1.57558\n",
      "Step #8600, epoch #614, avg. train loss: 1.58557\n",
      "Step #8700, epoch #621, avg. train loss: 1.56759\n",
      "Step #8800, epoch #628, avg. train loss: 1.57395\n",
      "Step #8900, epoch #635, avg. train loss: 1.57642\n",
      "Step #9000, epoch #642, avg. train loss: 1.56893\n",
      "Step #9100, epoch #650, avg. train loss: 1.57242\n",
      "Step #9200, epoch #657, avg. train loss: 1.58560\n",
      "Step #9300, epoch #664, avg. train loss: 1.58050\n",
      "Step #9400, epoch #671, avg. train loss: 1.57678\n",
      "Step #9500, epoch #678, avg. train loss: 1.58215\n",
      "Step #9600, epoch #685, avg. train loss: 1.57741\n",
      "Step #9700, epoch #692, avg. train loss: 1.58909\n",
      "Step #9800, epoch #700, avg. train loss: 1.57360\n",
      "Step #9900, epoch #707, avg. train loss: 1.57712\n",
      "Step #10000, epoch #714, avg. train loss: 1.57042\n",
      "Accuracy: 0.347826\n"
     ]
    }
   ],
   "source": [
    "classifier = skflow.TensorFlowDNNClassifier(hidden_units=[7], n_classes=10, steps=10000, \\\n",
    "                                            tf_random_seed=0, learning_rate = 0.1)\n",
    "classifier.fit(X_train_std, y_train)\n",
    "score = metrics.accuracy_score(y_test, classifier.predict(X_test_std))\n",
    "print(\"Accuracy: %f\" % score)"
   ]
  },
  {
   "cell_type": "code",
   "execution_count": 120,
   "metadata": {
    "collapsed": false
   },
   "outputs": [
    {
     "name": "stdout",
     "output_type": "stream",
     "text": [
      "[[ 0  1  2  2  1  0  0  0  0  2]\n",
      " [ 0  3  4  7  1  1  1  0  0  3]\n",
      " [ 0  2 10  6  1  0  0  0  0  2]\n",
      " [ 0  1  7 20  2  0  8  0  0  5]\n",
      " [ 0  2  0  4  7  2  3  0  0  2]\n",
      " [ 0  1  1  5  0  1  0  0  0  3]\n",
      " [ 0  1  1  2  2  1 13  0  0  0]\n",
      " [ 0  0  2  1  0  0  0  0  0  1]\n",
      " [ 0  2  2  8  2  0  0  0  0  3]\n",
      " [ 0  1  3  4  0  0  2  0  0 10]]\n"
     ]
    },
    {
     "data": {
      "image/png": "[encoded data removed]",
      "text/plain": [
       "<matplotlib.figure.Figure at 0x1185e8d10>"
      ]
     },
     "metadata": {},
     "output_type": "display_data"
    }
   ],
   "source": [
    "plotHeatmap(y_test, classifier.predict(X_test_std), y_labels)"
   ]
  },
  {
   "cell_type": "markdown",
   "metadata": {
    "collapsed": true
   },
   "source": [
    "### AdaBoost Classifier  \n",
    "Decision tree depth with learning rate 0.1 and 500, 1000, 2000, 5000 estimators:  \n",
    "1 - 0.310  \n",
    "2 - 0.299  \n",
    "4 - 0.342, 0.353, 0.359  \n",
    "6 - 0.386, 0.380, ****0.391****, 0.386  \n",
    "8 - 0.353, 0.375, 0.370, 0.359  \n",
    "10 - 0.304  "
   ]
  },
  {
   "cell_type": "code",
   "execution_count": 123,
   "metadata": {
    "collapsed": false
   },
   "outputs": [
    {
     "name": "stdout",
     "output_type": "stream",
     "text": [
      "AdaBoost train/test accuracies 1.000/0.391\n"
     ]
    }
   ],
   "source": [
    "tree = DecisionTreeClassifier(criterion='entropy',\n",
    "                             max_depth=6)\n",
    "ada = AdaBoostClassifier(base_estimator=tree,\n",
    "                        n_estimators=2000,\n",
    "                        learning_rate=0.1,\n",
    "                        random_state=0)\n",
    "ada = ada.fit(X_train_std, y_train)\n",
    "y_train_pred = ada.predict(X_train_std)\n",
    "y_test_pred = ada.predict(X_test_std)\n",
    "ada_train = accuracy_score(y_train, y_train_pred)\n",
    "ada_test = accuracy_score(y_test, y_test_pred)\n",
    "print('AdaBoost train/test accuracies %.3f/%.3f'\n",
    "     % (ada_train, ada_test))"
   ]
  },
  {
   "cell_type": "code",
   "execution_count": 124,
   "metadata": {
    "collapsed": false
   },
   "outputs": [
    {
     "name": "stdout",
     "output_type": "stream",
     "text": [
      "[[ 1  1  0  3  2  1  0  0  0  0]\n",
      " [ 0  1  5  6  3  3  0  0  0  2]\n",
      " [ 0  1  7  9  0  1  0  0  0  3]\n",
      " [ 0  1  0 34  0  1  4  0  0  3]\n",
      " [ 0  0  0 10  5  1  1  0  1  2]\n",
      " [ 1  1  0  4  1  3  0  0  0  1]\n",
      " [ 0  0  0  7  0  2 11  0  0  0]\n",
      " [ 0  0  0  3  0  0  0  0  0  1]\n",
      " [ 1  1  0  7  3  1  0  1  1  2]\n",
      " [ 0  0  2  5  1  2  0  0  1  9]]\n"
     ]
    },
    {
     "data": {
      "image/png": "[encoded data removed]",
      "text/plain": [
       "<matplotlib.figure.Figure at 0x118052e90>"
      ]
     },
     "metadata": {},
     "output_type": "display_data"
    }
   ],
   "source": [
    "plotHeatmap(y_test, y_test_pred, y_labels, printCF=True)"
   ]
  },
  {
   "cell_type": "markdown",
   "metadata": {},
   "source": [
    "### Bagging Classifier  \n",
    "Decision tree depth none, varying estimators, max samples, max features:  \n",
    "estimators, max samples, max features, accuracy  \n",
    "500, 1.0, 1.0, 0.375  \n",
    "1000, 1.0, 1.0, 0.391  \n",
    "  \n",
    "500, 0.7, 0.7, 0.440  \n",
    "1000, 0.7, 0.7, 0.429  \n",
    "2000, 0.7, 0.7, 0.424  \n",
    "  \n",
    "500, 0.5, 0.5, 0.435  \n",
    "1000, 0.5, 0.5, 0.440  \n",
    "2000, 0.5, 0.5, 0.451  \n",
    "  \n",
    "1000, 0.7, 0.5, ****0.467****  \n",
    "1000, 0.8, 0.5, ****0.467****  \n",
    "\n",
    "2000, 0.7, 0.5, 0.457  \n",
    "1000, 0.7, 0.5, 0.462  "
   ]
  },
  {
   "cell_type": "code",
   "execution_count": 128,
   "metadata": {
    "collapsed": false
   },
   "outputs": [
    {
     "name": "stdout",
     "output_type": "stream",
     "text": [
      "Bagging train/test accuracies 1.000/0.462\n"
     ]
    }
   ],
   "source": [
    "tree = DecisionTreeClassifier(criterion='entropy', max_depth=None)\n",
    "bag = BaggingClassifier(base_estimator=tree,n_estimators=2000,max_samples=0.8,max_features=0.5,\n",
    "                       bootstrap=True,bootstrap_features=False,n_jobs=1, random_state=1)\n",
    "\n",
    "bag = bag.fit(X_train_std, y_train)\n",
    "y_train_pred = bag.predict(X_train_std)\n",
    "y_test_pred = bag.predict(X_test_std)\n",
    "bag_train = accuracy_score(y_train, y_train_pred)\n",
    "bag_test = accuracy_score(y_test, y_test_pred)\n",
    "print('Bagging train/test accuracies %.3f/%.3f'\n",
    "     % (bag_train, bag_test))"
   ]
  },
  {
   "cell_type": "code",
   "execution_count": 126,
   "metadata": {
    "collapsed": false
   },
   "outputs": [
    {
     "name": "stdout",
     "output_type": "stream",
     "text": [
      "[[ 1  0  0  3  1  1  0  0  0  2]\n",
      " [ 0  1  4  8  1  1  1  0  0  4]\n",
      " [ 0  0 12  6  0  0  0  0  0  3]\n",
      " [ 0  0  0 36  0  0  5  0  0  2]\n",
      " [ 0  0  1  6  8  0  1  1  0  3]\n",
      " [ 1  0  0  4  1  4  0  0  0  1]\n",
      " [ 0  0  0  4  0  3 13  0  0  0]\n",
      " [ 0  0  1  2  0  0  0  0  0  1]\n",
      " [ 1  1  0  9  2  1  0  0  0  3]\n",
      " [ 0  0  2  4  1  2  0  0  0 11]]\n"
     ]
    },
    {
     "data": {
      "image/png": "[encoded data removed]",
      "text/plain": [
       "<matplotlib.figure.Figure at 0x11820b150>"
      ]
     },
     "metadata": {},
     "output_type": "display_data"
    }
   ],
   "source": [
    "plotHeatmap(y_test, y_test_pred, y_labels, printCF=True)"
   ]
  },
  {
   "cell_type": "code",
   "execution_count": null,
   "metadata": {
    "collapsed": true
   },
   "outputs": [],
   "source": []
  }
 ],
 "metadata": {
  "kernelspec": {
   "display_name": "Python 2",
   "language": "python",
   "name": "python2"
  },
  "language_info": {
   "codemirror_mode": {
    "name": "ipython",
    "version": 2
   },
   "file_extension": ".py",
   "mimetype": "text/x-python",
   "name": "python",
   "nbconvert_exporter": "python",
   "pygments_lexer": "ipython2",
   "version": "2.7.11"
  }
 },
 "nbformat": 4,
 "nbformat_minor": 0
}
