{
 "cells": [
  {
   "cell_type": "markdown",
   "metadata": {},
   "source": [
    "## Urban Sounds Classification  \n",
    "### Neural Net,  AdaBoost, Bagging"
   ]
  },
  {
   "cell_type": "code",
   "execution_count": 1,
   "metadata": {
    "collapsed": false
   },
   "outputs": [],
   "source": [
    "import math\n",
    "import matplotlib.pyplot as plt\n",
    "import numpy as np\n",
    "import pandas as pd\n",
    "import skflow\n",
    "\n",
    "from collections import Counter\n",
    "from sklearn import datasets, metrics, cross_validation\n",
    "from sklearn.cross_validation import train_test_split\n",
    "from sklearn.ensemble import AdaBoostClassifier\n",
    "from sklearn.ensemble import BaggingClassifier\n",
    "from sklearn.metrics import accuracy_score, precision_score, recall_score, f1_score\n",
    "from sklearn.metrics import confusion_matrix, mean_squared_error\n",
    "from sklearn.preprocessing import LabelEncoder, StandardScaler\n",
    "from sklearn.tree import DecisionTreeClassifier\n",
    "\n",
    "%matplotlib inline"
   ]
  },
  {
   "cell_type": "code",
   "execution_count": 2,
   "metadata": {
    "collapsed": true
   },
   "outputs": [],
   "source": [
    "def plotHeatmap(y_actual, y_pred, y_labels, printCF=False):\n",
    "    y_counts = np.asarray(Counter(y_actual).values())\n",
    "    confMat = confusion_matrix(y_true=y_test, y_pred=y_pred)\n",
    "    if printCF:\n",
    "        print(confMat)\n",
    "    confMatNorm = np.true_divide(confMat, y_counts)\n",
    "    \n",
    "    fig, ax = plt.subplots()\n",
    "    heatmap = ax.pcolor(confMatNorm, cmap=plt.cm.jet, vmin=0, vmax=1)\n",
    "\n",
    "    # locate ticks\n",
    "    ax.set_xticks(np.arange(confMatNorm.shape[0])+0.5, minor=False)\n",
    "    ax.set_yticks(np.arange(confMatNorm.shape[1])+0.5, minor=False)\n",
    "\n",
    "    # move x ticks to top\n",
    "    ax.invert_yaxis()\n",
    "    ax.xaxis.tick_top()\n",
    "\n",
    "    ax.set_xticklabels(y_labels, minor=False, rotation='vertical')\n",
    "    ax.set_yticklabels(y_labels, minor=False)\n",
    "\n",
    "    #ax.set_xlabel('Predicted Class')\n",
    "    ax.set_ylabel('Actual Class')\n",
    "\n",
    "    plt.show()"
   ]
  },
  {
   "cell_type": "code",
   "execution_count": 3,
   "metadata": {
    "collapsed": false
   },
   "outputs": [],
   "source": [
    "# Import Pre-Processed Wav File Data Set\n",
    "wavData = pd.read_csv('feature_quant_new.csv')\n",
    "\n",
    "# Remove Empty Rows\n",
    "wavData = wavData[-np.isnan(wavData['mean'])]"
   ]
  },
  {
   "cell_type": "code",
   "execution_count": 4,
   "metadata": {
    "collapsed": false
   },
   "outputs": [
    {
     "name": "stdout",
     "output_type": "stream",
     "text": [
      "530\n",
      "   Unnamed: 0     kurt7      min11       med4    skew13    power6     kurt4  \\\n",
      "0  100032.wav -0.070401 -18.675434 -22.182070  0.117793  0.049451 -0.312771   \n",
      "1  100263.wav  0.766502 -53.592658 -38.231859  0.062134  0.145623  0.297177   \n",
      "\n",
      "       std3     skew9     med12    ...          max7       min6    power2  \\\n",
      "0  7.780253 -0.845639 -0.121202    ...     25.780917 -74.076196  0.218719   \n",
      "1  4.916808 -0.247002 -5.770335    ...     82.847933 -82.382565  0.077798   \n",
      "\n",
      "        std6    power4       min8      max13    kurt11    power9     std12  \n",
      "0  16.140037  0.286047 -27.837698   9.329147  0.406636  0.007275  6.568384  \n",
      "1  10.379953  0.112095 -56.489494  43.924134  1.990391  0.095986  9.269602  \n",
      "\n",
      "[2 rows x 107 columns]\n"
     ]
    }
   ],
   "source": [
    "print len(wavData)\n",
    "print wavData[0:2]"
   ]
  },
  {
   "cell_type": "code",
   "execution_count": 5,
   "metadata": {
    "collapsed": false
   },
   "outputs": [],
   "source": [
    "# create feature (only) array by dropping index and class columns\n",
    "feat = list(wavData.columns)\n",
    "feat.remove('class')\n",
    "feat.remove('Unnamed: 0')"
   ]
  },
  {
   "cell_type": "code",
   "execution_count": 6,
   "metadata": {
    "collapsed": false
   },
   "outputs": [],
   "source": [
    "# convert class labels to numeric category 0-9\n",
    "le = LabelEncoder()\n",
    "y = wavData.loc[:,'class']\n",
    "y = le.fit_transform(y)\n",
    "y_labels = list(le.classes_)"
   ]
  },
  {
   "cell_type": "code",
   "execution_count": 7,
   "metadata": {
    "collapsed": false
   },
   "outputs": [
    {
     "data": {
      "text/plain": [
       "(371, 105)"
      ]
     },
     "execution_count": 7,
     "metadata": {},
     "output_type": "execute_result"
    }
   ],
   "source": [
    "# split data into training and testing sets\n",
    "X_train, X_test, y_train, y_test = train_test_split(wavData.loc[:,feat], y, \\\n",
    "                                                    test_size=0.3, random_state=0)\n",
    "X_train.shape"
   ]
  },
  {
   "cell_type": "code",
   "execution_count": 8,
   "metadata": {
    "collapsed": true
   },
   "outputs": [],
   "source": [
    "# scale data according to training set distribution\n",
    "sc = StandardScaler()\n",
    "sc=sc.fit(X_train)\n",
    "X_train_std = sc.transform(X_train)\n",
    "X_test_std = sc.transform(X_test)"
   ]
  },
  {
   "cell_type": "markdown",
   "metadata": {},
   "source": [
    "### Neural Network  \n",
    "Results with 10000 steps with learning rates 0.1, 0.01, 0.001:  \n",
    "  \n",
    "5 hidden units - 0.266, 0.239  \n",
    "7 hidden units - ****0.348****, 0.266 (20000 steps, 0.1 learning rate: 0.288) --> ****0.491**** with new features, haven't tried other options yet  \n",
    "10 hidden units - 0.266, 0.304  \n",
    "30 hidden units - 0.250, 0.299  \n",
    "50 hidden units - 0.277, 0.315  \n",
    "100 hidden units - 0.250, 0.321 (20000 steps, 0.01 learning rate: 0.310)  \n",
    "  \n",
    "[5,10,5] hidden units - 0.254, 0.310 (20000 steps, 0.01 learning rate: 0.310)  \n",
    "[10,20,10] hidden units - 0.293, 0.304 (20000 steps, 0.01 learning rate: 0.293)  \n",
    "[30,60,30] hidden units - 0.304, 0.261 (20000 steps, 0.1 learning rate: 0.310)  \n",
    "[50,100,50] hidden units - 0.283, 0.283  "
   ]
  },
  {
   "cell_type": "code",
   "execution_count": 9,
   "metadata": {
    "collapsed": false
   },
   "outputs": [
    {
     "name": "stdout",
     "output_type": "stream",
     "text": [
      "Step #100, epoch #8, avg. train loss: 1.59363\n",
      "Step #200, epoch #16, avg. train loss: 1.03778\n",
      "Step #300, epoch #25, avg. train loss: 0.83879\n",
      "Step #400, epoch #33, avg. train loss: 0.70517\n",
      "Step #500, epoch #41, avg. train loss: 0.62019\n",
      "Step #600, epoch #50, avg. train loss: 0.52463\n",
      "Step #700, epoch #58, avg. train loss: 0.46059\n",
      "Step #800, epoch #66, avg. train loss: 0.40397\n",
      "Step #900, epoch #75, avg. train loss: 0.37078\n",
      "Step #1000, epoch #83, avg. train loss: 0.33284\n",
      "Step #1100, epoch #91, avg. train loss: 0.30751\n",
      "Step #1200, epoch #100, avg. train loss: 0.28211\n",
      "Step #1300, epoch #108, avg. train loss: 0.25970\n",
      "Step #1400, epoch #116, avg. train loss: 0.24426\n",
      "Step #1500, epoch #125, avg. train loss: 0.22318\n",
      "Step #1600, epoch #133, avg. train loss: 0.20915\n",
      "Step #1700, epoch #141, avg. train loss: 0.19328\n",
      "Step #1800, epoch #150, avg. train loss: 0.18592\n",
      "Step #1900, epoch #158, avg. train loss: 0.17454\n",
      "Step #2000, epoch #166, avg. train loss: 0.16330\n",
      "Step #2100, epoch #175, avg. train loss: 0.15654\n",
      "Step #2200, epoch #183, avg. train loss: 0.14829\n",
      "Step #2300, epoch #191, avg. train loss: 0.14180\n",
      "Step #2400, epoch #200, avg. train loss: 0.13770\n",
      "Step #2500, epoch #208, avg. train loss: 0.13165\n",
      "Step #2600, epoch #216, avg. train loss: 0.13032\n",
      "Step #2700, epoch #225, avg. train loss: 0.12003\n",
      "Step #2800, epoch #233, avg. train loss: 0.11783\n",
      "Step #2900, epoch #241, avg. train loss: 0.11796\n",
      "Step #3000, epoch #250, avg. train loss: 0.10973\n",
      "Step #3100, epoch #258, avg. train loss: 0.10689\n",
      "Step #3200, epoch #266, avg. train loss: 0.10440\n",
      "Step #3300, epoch #275, avg. train loss: 0.10560\n",
      "Step #3400, epoch #283, avg. train loss: 0.10112\n",
      "Step #3500, epoch #291, avg. train loss: 0.09756\n",
      "Step #3600, epoch #300, avg. train loss: 0.09521\n",
      "Step #3700, epoch #308, avg. train loss: 0.09244\n",
      "Step #3800, epoch #316, avg. train loss: 0.09256\n",
      "Step #3900, epoch #325, avg. train loss: 0.08952\n",
      "Step #4000, epoch #333, avg. train loss: 0.08763\n",
      "Step #4100, epoch #341, avg. train loss: 0.08447\n",
      "Step #4200, epoch #350, avg. train loss: 0.08592\n",
      "Step #4300, epoch #358, avg. train loss: 0.08375\n",
      "Step #4400, epoch #366, avg. train loss: 0.07922\n",
      "Step #4500, epoch #375, avg. train loss: 0.08086\n",
      "Step #4600, epoch #383, avg. train loss: 0.07961\n",
      "Step #4700, epoch #391, avg. train loss: 0.07617\n",
      "Step #4800, epoch #400, avg. train loss: 0.07577\n",
      "Step #4900, epoch #408, avg. train loss: 0.07678\n",
      "Step #5000, epoch #416, avg. train loss: 0.07339\n",
      "Step #5100, epoch #425, avg. train loss: 0.07306\n",
      "Step #5200, epoch #433, avg. train loss: 0.07093\n",
      "Step #5300, epoch #441, avg. train loss: 0.06968\n",
      "Step #5400, epoch #450, avg. train loss: 0.07033\n",
      "Step #5500, epoch #458, avg. train loss: 0.06916\n",
      "Step #5600, epoch #466, avg. train loss: 0.06622\n",
      "Step #5700, epoch #475, avg. train loss: 0.06669\n",
      "Step #5800, epoch #483, avg. train loss: 0.06637\n",
      "Step #5900, epoch #491, avg. train loss: 0.06410\n",
      "Step #6000, epoch #500, avg. train loss: 0.06394\n",
      "Step #6100, epoch #508, avg. train loss: 0.06369\n",
      "Step #6200, epoch #516, avg. train loss: 0.06167\n",
      "Step #6300, epoch #525, avg. train loss: 0.06179\n",
      "Step #6400, epoch #533, avg. train loss: 0.06120\n",
      "Step #6500, epoch #541, avg. train loss: 0.05936\n",
      "Step #6600, epoch #550, avg. train loss: 0.06080\n",
      "Step #6700, epoch #558, avg. train loss: 0.06088\n",
      "Step #6800, epoch #566, avg. train loss: 0.05790\n",
      "Step #6900, epoch #575, avg. train loss: 0.05910\n",
      "Step #7000, epoch #583, avg. train loss: 0.05637\n",
      "Step #7100, epoch #591, avg. train loss: 0.05612\n",
      "Step #7200, epoch #600, avg. train loss: 0.05764\n",
      "Step #7300, epoch #608, avg. train loss: 0.05383\n",
      "Step #7400, epoch #616, avg. train loss: 0.05685\n",
      "Step #7500, epoch #625, avg. train loss: 0.05557\n",
      "Step #7600, epoch #633, avg. train loss: 0.05429\n",
      "Step #7700, epoch #641, avg. train loss: 0.05530\n",
      "Step #7800, epoch #650, avg. train loss: 0.05303\n",
      "Step #7900, epoch #658, avg. train loss: 0.05303\n",
      "Step #8000, epoch #666, avg. train loss: 0.05272\n",
      "Step #8100, epoch #675, avg. train loss: 0.05172\n",
      "Step #8200, epoch #683, avg. train loss: 0.05232\n",
      "Step #8300, epoch #691, avg. train loss: 0.04841\n",
      "Step #8400, epoch #700, avg. train loss: 0.05236\n",
      "Step #8500, epoch #708, avg. train loss: 0.05065\n",
      "Step #8600, epoch #716, avg. train loss: 0.05010\n",
      "Step #8700, epoch #725, avg. train loss: 0.05002\n",
      "Step #8800, epoch #733, avg. train loss: 0.04930\n",
      "Step #8900, epoch #741, avg. train loss: 0.04867\n",
      "Step #9000, epoch #750, avg. train loss: 0.04799\n",
      "Step #9100, epoch #758, avg. train loss: 0.04742\n",
      "Step #9200, epoch #766, avg. train loss: 0.04829\n",
      "Step #9300, epoch #775, avg. train loss: 0.04588\n",
      "Step #9400, epoch #783, avg. train loss: 0.04733\n",
      "Step #9500, epoch #791, avg. train loss: 0.04548\n",
      "Step #9600, epoch #800, avg. train loss: 0.04615\n",
      "Step #9700, epoch #808, avg. train loss: 0.04673\n",
      "Step #9800, epoch #816, avg. train loss: 0.04647\n",
      "Step #9900, epoch #825, avg. train loss: 0.04560\n",
      "Step #10000, epoch #833, avg. train loss: 0.04313\n",
      "Accuracy: 0.490566\n"
     ]
    }
   ],
   "source": [
    "classifier = skflow.TensorFlowDNNClassifier(hidden_units=[7], n_classes=10, steps=10000, \\\n",
    "                                            tf_random_seed=0, learning_rate = 0.1)\n",
    "classifier.fit(X_train_std, y_train)\n",
    "score = metrics.accuracy_score(y_test, classifier.predict(X_test_std))\n",
    "print(\"Accuracy: %f\" % score)"
   ]
  },
  {
   "cell_type": "code",
   "execution_count": 10,
   "metadata": {
    "collapsed": false
   },
   "outputs": [
    {
     "data": {
      "image/png": "[encoded data removed]",
      "text/plain": [
       "<matplotlib.figure.Figure at 0x11b65a110>"
      ]
     },
     "metadata": {},
     "output_type": "display_data"
    }
   ],
   "source": [
    "plotHeatmap(y_test, classifier.predict(X_test_std), y_labels)"
   ]
  },
  {
   "cell_type": "markdown",
   "metadata": {
    "collapsed": true
   },
   "source": [
    "### AdaBoost Classifier  \n",
    "Decision tree depth with learning rate 0.1 and 500, 1000, 2000, 5000 estimators:  \n",
    "1 - 0.310  \n",
    "2 - 0.299  \n",
    "4 - 0.342, 0.353, 0.359  \n",
    "6 - 0.386, 0.380, ****0.391****, 0.386 --> ****0.572**** with new features, haven't tried other options yet  \n",
    "8 - 0.353, 0.375, 0.370, 0.359  \n",
    "10 - 0.304  "
   ]
  },
  {
   "cell_type": "code",
   "execution_count": 11,
   "metadata": {
    "collapsed": false
   },
   "outputs": [
    {
     "name": "stdout",
     "output_type": "stream",
     "text": [
      "AdaBoost train/test accuracies 1.000/0.572\n"
     ]
    }
   ],
   "source": [
    "tree = DecisionTreeClassifier(criterion='entropy',\n",
    "                             max_depth=6)\n",
    "ada = AdaBoostClassifier(base_estimator=tree,\n",
    "                        n_estimators=2000,\n",
    "                        learning_rate=0.1,\n",
    "                        random_state=0)\n",
    "ada = ada.fit(X_train_std, y_train)\n",
    "y_train_pred = ada.predict(X_train_std)\n",
    "y_test_pred = ada.predict(X_test_std)\n",
    "ada_train = accuracy_score(y_train, y_train_pred)\n",
    "ada_test = accuracy_score(y_test, y_test_pred)\n",
    "print('AdaBoost train/test accuracies %.3f/%.3f'\n",
    "     % (ada_train, ada_test))"
   ]
  },
  {
   "cell_type": "code",
   "execution_count": 12,
   "metadata": {
    "collapsed": false
   },
   "outputs": [
    {
     "name": "stdout",
     "output_type": "stream",
     "text": [
      "[[ 1  1  1  0  1  2  0  0  0  0]\n",
      " [ 0 10  1  3  0  2  0  0  0  0]\n",
      " [ 0  1 16  8  0  0  0  0  0  0]\n",
      " [ 0  0  2 32  0  0  0  0  0  0]\n",
      " [ 0  0  1  4  6  0  0  0  0  1]\n",
      " [ 0  3  0  3  0  7  0  0  0  1]\n",
      " [ 0  1  0  3  0  0 10  0  0  0]\n",
      " [ 0  0  1  2  2  0  0  1  0  1]\n",
      " [ 0  0  1  9  0  0  0  0  3  1]\n",
      " [ 0  2  5  2  1  0  0  0  2  5]]\n"
     ]
    },
    {
     "data": {
      "image/png": "[encoded data removed]",
      "text/plain": [
       "<matplotlib.figure.Figure at 0x11c447750>"
      ]
     },
     "metadata": {},
     "output_type": "display_data"
    }
   ],
   "source": [
    "plotHeatmap(y_test, y_test_pred, y_labels, printCF=True)"
   ]
  },
  {
   "cell_type": "markdown",
   "metadata": {},
   "source": [
    "### Bagging Classifier  \n",
    "Decision tree depth none, varying estimators, max samples, max features:  \n",
    "estimators, max samples, max features, accuracy  \n",
    "500, 1.0, 1.0, 0.375  \n",
    "1000, 1.0, 1.0, 0.391  \n",
    "  \n",
    "500, 0.7, 0.7, 0.440  \n",
    "1000, 0.7, 0.7, 0.429  \n",
    "2000, 0.7, 0.7, 0.424  \n",
    "  \n",
    "500, 0.5, 0.5, 0.435  \n",
    "1000, 0.5, 0.5, 0.440  \n",
    "2000, 0.5, 0.5, 0.451  \n",
    "  \n",
    "1000, 0.7, 0.5, ****0.467**** --> ****0.597**** with new features, haven't tried other options yet  \n",
    "1000, 0.8, 0.5, ****0.467****  \n",
    "\n",
    "2000, 0.7, 0.5, 0.457  \n",
    "1000, 0.7, 0.5, 0.462  "
   ]
  },
  {
   "cell_type": "code",
   "execution_count": 13,
   "metadata": {
    "collapsed": false
   },
   "outputs": [
    {
     "name": "stdout",
     "output_type": "stream",
     "text": [
      "Bagging train/test accuracies 1.000/0.597\n"
     ]
    }
   ],
   "source": [
    "tree = DecisionTreeClassifier(criterion='entropy', max_depth=None)\n",
    "bag = BaggingClassifier(base_estimator=tree,n_estimators=2000,max_samples=0.7,max_features=0.5,\n",
    "                       bootstrap=True,bootstrap_features=False,n_jobs=1, random_state=1)\n",
    "\n",
    "bag = bag.fit(X_train_std, y_train)\n",
    "y_train_pred = bag.predict(X_train_std)\n",
    "y_test_pred = bag.predict(X_test_std)\n",
    "bag_train = accuracy_score(y_train, y_train_pred)\n",
    "bag_test = accuracy_score(y_test, y_test_pred)\n",
    "print('Bagging train/test accuracies %.3f/%.3f'\n",
    "     % (bag_train, bag_test))"
   ]
  },
  {
   "cell_type": "code",
   "execution_count": 14,
   "metadata": {
    "collapsed": false
   },
   "outputs": [
    {
     "name": "stdout",
     "output_type": "stream",
     "text": [
      "[[ 2  0  2  0  0  2  0  0  0  0]\n",
      " [ 1  6  2  1  0  2  2  0  0  2]\n",
      " [ 0  2 16  5  0  0  0  0  1  1]\n",
      " [ 0  0  3 29  0  0  1  0  0  1]\n",
      " [ 0  1  1  1  8  0  0  0  0  1]\n",
      " [ 0  6  0  0  0  6  1  0  0  1]\n",
      " [ 0  1  0  2  0  0 11  0  0  0]\n",
      " [ 0  1  0  2  2  0  0  1  0  1]\n",
      " [ 0  0  0  9  1  0  0  0  4  0]\n",
      " [ 0  1  2  1  0  1  0  0  0 12]]\n"
     ]
    },
    {
     "data": {
      "image/png": "[encoded data removed]",
      "text/plain": [
       "<matplotlib.figure.Figure at 0x11db9ec90>"
      ]
     },
     "metadata": {},
     "output_type": "display_data"
    }
   ],
   "source": [
    "plotHeatmap(y_test, y_test_pred, y_labels, printCF=True)"
   ]
  },
  {
   "cell_type": "code",
   "execution_count": null,
   "metadata": {
    "collapsed": true
   },
   "outputs": [],
   "source": []
  }
 ],
 "metadata": {
  "kernelspec": {
   "display_name": "Python 2",
   "language": "python",
   "name": "python2"
  },
  "language_info": {
   "codemirror_mode": {
    "name": "ipython",
    "version": 2
   },
   "file_extension": ".py",
   "mimetype": "text/x-python",
   "name": "python",
   "nbconvert_exporter": "python",
   "pygments_lexer": "ipython2",
   "version": "2.7.11"
  }
 },
 "nbformat": 4,
 "nbformat_minor": 0
}
