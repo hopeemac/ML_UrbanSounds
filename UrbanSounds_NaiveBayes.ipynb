{
 "cells": [
  {
   "cell_type": "markdown",
   "metadata": {},
   "source": [
    "# Machine Learning: Urban Sounds NaiveBayes Classifier"
   ]
  },
  {
   "cell_type": "code",
   "execution_count": 1,
   "metadata": {
    "collapsed": true
   },
   "outputs": [],
   "source": [
    "# Base\n",
    "import numpy as np\n",
    "import pandas as pd\n",
    "import json\n",
    "import re\n",
    "import string\n",
    "from os import listdir\n",
    "import math\n",
    "import time\n",
    "import csv\n",
    "import sys\n",
    "import datetime\n",
    "\n",
    "# Plotting\n",
    "import matplotlib.pyplot as plt\n",
    "%matplotlib inline\n",
    "\n",
    "# Machine Learning\n",
    "from sklearn import metrics, cross_validation\n",
    "\n",
    "from sklearn.preprocessing import StandardScaler\n",
    "#from sklearn.preprocessing import Imputer, OneHotEncoder, LabelEncoder\n",
    "\n",
    "from sklearn.cross_validation import train_test_split\n",
    "\n",
    "from sklearn.metrics import accuracy_score, confusion_matrix, precision_score, recall_score, f1_score\n",
    "\n",
    "#from sknn.mlp import Regressor, Classifier, Layer\n",
    "#from sklearn.ensemble import RandomForestClassifier\n",
    "from sklearn.naive_bayes import GaussianNB"
   ]
  },
  {
   "cell_type": "code",
   "execution_count": 2,
   "metadata": {
    "collapsed": false
   },
   "outputs": [],
   "source": [
    "# Import Pre-Processed Wav File Data Set\n",
    "wavData = pd.read_csv('feature_quant.csv')"
   ]
  },
  {
   "cell_type": "code",
   "execution_count": 3,
   "metadata": {
    "collapsed": false
   },
   "outputs": [
    {
     "data": {
      "text/html": [
       "<div>\n",
       "<table border=\"1\" class=\"dataframe\">\n",
       "  <thead>\n",
       "    <tr style=\"text-align: right;\">\n",
       "      <th></th>\n",
       "      <th>Unnamed: 0</th>\n",
       "      <th>std</th>\n",
       "      <th>mean</th>\n",
       "      <th>power2</th>\n",
       "      <th>power7</th>\n",
       "      <th>power5</th>\n",
       "      <th>kurtosis</th>\n",
       "      <th>skewness</th>\n",
       "      <th>power10</th>\n",
       "      <th>power4</th>\n",
       "      <th>power9</th>\n",
       "      <th>power6</th>\n",
       "      <th>power1</th>\n",
       "      <th>power8</th>\n",
       "      <th>class</th>\n",
       "      <th>power3</th>\n",
       "    </tr>\n",
       "  </thead>\n",
       "  <tbody>\n",
       "    <tr>\n",
       "      <th>0</th>\n",
       "      <td>100032.wav</td>\n",
       "      <td>5387.262558</td>\n",
       "      <td>-0.173201</td>\n",
       "      <td>0.218719</td>\n",
       "      <td>0.021339</td>\n",
       "      <td>0.107915</td>\n",
       "      <td>8.378661</td>\n",
       "      <td>0.290676</td>\n",
       "      <td>0.004058</td>\n",
       "      <td>0.286047</td>\n",
       "      <td>0.007275</td>\n",
       "      <td>0.049451</td>\n",
       "      <td>0.030802</td>\n",
       "      <td>0.011321</td>\n",
       "      <td>dog_bark</td>\n",
       "      <td>0.263073</td>\n",
       "    </tr>\n",
       "    <tr>\n",
       "      <th>1</th>\n",
       "      <td>100263.wav</td>\n",
       "      <td>172.622405</td>\n",
       "      <td>-2.877835</td>\n",
       "      <td>0.077798</td>\n",
       "      <td>0.102353</td>\n",
       "      <td>0.091911</td>\n",
       "      <td>10.631201</td>\n",
       "      <td>-0.037141</td>\n",
       "      <td>0.094223</td>\n",
       "      <td>0.112095</td>\n",
       "      <td>0.095986</td>\n",
       "      <td>0.145623</td>\n",
       "      <td>0.082727</td>\n",
       "      <td>0.108314</td>\n",
       "      <td>children_playing</td>\n",
       "      <td>0.088970</td>\n",
       "    </tr>\n",
       "    <tr>\n",
       "      <th>2</th>\n",
       "      <td>101729.wav</td>\n",
       "      <td>NaN</td>\n",
       "      <td>NaN</td>\n",
       "      <td>NaN</td>\n",
       "      <td>NaN</td>\n",
       "      <td>NaN</td>\n",
       "      <td>NaN</td>\n",
       "      <td>NaN</td>\n",
       "      <td>NaN</td>\n",
       "      <td>NaN</td>\n",
       "      <td>NaN</td>\n",
       "      <td>NaN</td>\n",
       "      <td>NaN</td>\n",
       "      <td>NaN</td>\n",
       "      <td>air_conditioner</td>\n",
       "      <td>NaN</td>\n",
       "    </tr>\n",
       "    <tr>\n",
       "      <th>3</th>\n",
       "      <td>101848.wav</td>\n",
       "      <td>1100.104596</td>\n",
       "      <td>-0.486906</td>\n",
       "      <td>0.170541</td>\n",
       "      <td>0.056053</td>\n",
       "      <td>0.109598</td>\n",
       "      <td>7.459590</td>\n",
       "      <td>-0.010953</td>\n",
       "      <td>0.053987</td>\n",
       "      <td>0.127636</td>\n",
       "      <td>0.050200</td>\n",
       "      <td>0.066393</td>\n",
       "      <td>0.156979</td>\n",
       "      <td>0.052119</td>\n",
       "      <td>street_music</td>\n",
       "      <td>0.156496</td>\n",
       "    </tr>\n",
       "    <tr>\n",
       "      <th>4</th>\n",
       "      <td>102102.wav</td>\n",
       "      <td>697.540407</td>\n",
       "      <td>-1.028463</td>\n",
       "      <td>0.058669</td>\n",
       "      <td>0.154061</td>\n",
       "      <td>0.125748</td>\n",
       "      <td>11.638605</td>\n",
       "      <td>0.204312</td>\n",
       "      <td>0.098656</td>\n",
       "      <td>0.118089</td>\n",
       "      <td>0.133428</td>\n",
       "      <td>0.113967</td>\n",
       "      <td>0.043734</td>\n",
       "      <td>0.075375</td>\n",
       "      <td>dog_bark</td>\n",
       "      <td>0.078275</td>\n",
       "    </tr>\n",
       "  </tbody>\n",
       "</table>\n",
       "</div>"
      ],
      "text/plain": [
       "   Unnamed: 0          std      mean    power2    power7    power5   kurtosis  \\\n",
       "0  100032.wav  5387.262558 -0.173201  0.218719  0.021339  0.107915   8.378661   \n",
       "1  100263.wav   172.622405 -2.877835  0.077798  0.102353  0.091911  10.631201   \n",
       "2  101729.wav          NaN       NaN       NaN       NaN       NaN        NaN   \n",
       "3  101848.wav  1100.104596 -0.486906  0.170541  0.056053  0.109598   7.459590   \n",
       "4  102102.wav   697.540407 -1.028463  0.058669  0.154061  0.125748  11.638605   \n",
       "\n",
       "   skewness   power10    power4    power9    power6    power1    power8  \\\n",
       "0  0.290676  0.004058  0.286047  0.007275  0.049451  0.030802  0.011321   \n",
       "1 -0.037141  0.094223  0.112095  0.095986  0.145623  0.082727  0.108314   \n",
       "2       NaN       NaN       NaN       NaN       NaN       NaN       NaN   \n",
       "3 -0.010953  0.053987  0.127636  0.050200  0.066393  0.156979  0.052119   \n",
       "4  0.204312  0.098656  0.118089  0.133428  0.113967  0.043734  0.075375   \n",
       "\n",
       "              class    power3  \n",
       "0          dog_bark  0.263073  \n",
       "1  children_playing  0.088970  \n",
       "2   air_conditioner       NaN  \n",
       "3      street_music  0.156496  \n",
       "4          dog_bark  0.078275  "
      ]
     },
     "execution_count": 3,
     "metadata": {},
     "output_type": "execute_result"
    }
   ],
   "source": [
    "wavData[0:5]"
   ]
  },
  {
   "cell_type": "code",
   "execution_count": 4,
   "metadata": {
    "collapsed": true
   },
   "outputs": [],
   "source": [
    "# Remove Empty Rows\n",
    "wavData = wavData[-np.isnan(wavData['mean'])]"
   ]
  },
  {
   "cell_type": "code",
   "execution_count": 5,
   "metadata": {
    "collapsed": false
   },
   "outputs": [
    {
     "data": {
      "text/plain": [
       "['std',\n",
       " 'mean',\n",
       " 'power2',\n",
       " 'power7',\n",
       " 'power5',\n",
       " 'kurtosis',\n",
       " 'skewness',\n",
       " 'power10',\n",
       " 'power4',\n",
       " 'power9',\n",
       " 'power6',\n",
       " 'power1',\n",
       " 'power8',\n",
       " 'power3']"
      ]
     },
     "execution_count": 5,
     "metadata": {},
     "output_type": "execute_result"
    }
   ],
   "source": [
    "feat = list(wavData.columns)\n",
    "feat.remove('class')\n",
    "feat.remove('Unnamed: 0')\n",
    "feat"
   ]
  },
  {
   "cell_type": "code",
   "execution_count": 36,
   "metadata": {
    "collapsed": true
   },
   "outputs": [],
   "source": [
    "X_train, X_test, y_train, y_test = train_test_split(wavData.loc[:,feat], wavData.loc[:,'class'], \\\n",
    "                                                    test_size=0.3, random_state=0)"
   ]
  },
  {
   "cell_type": "code",
   "execution_count": 37,
   "metadata": {
    "collapsed": false
   },
   "outputs": [],
   "source": [
    "gnb = GaussianNB()\n",
    "gnb.fit(X_train, y_train)\n",
    "y_predict = gnb.predict(X_test)"
   ]
  },
  {
   "cell_type": "code",
   "execution_count": 13,
   "metadata": {
    "collapsed": false
   },
   "outputs": [
    {
     "data": {
      "text/plain": [
       "{'air_conditioner',\n",
       " 'car_horn',\n",
       " 'children_playing',\n",
       " 'dog_bark',\n",
       " 'drilling',\n",
       " 'engine_idling',\n",
       " 'gun_shot',\n",
       " 'jackhammer',\n",
       " 'siren',\n",
       " 'street_music'}"
      ]
     },
     "execution_count": 13,
     "metadata": {},
     "output_type": "execute_result"
    }
   ],
   "source": [
    "classes = set(wavData['class']); classes"
   ]
  },
  {
   "cell_type": "code",
   "execution_count": 40,
   "metadata": {
    "collapsed": false
   },
   "outputs": [
    {
     "data": {
      "text/plain": [
       "[(0.041894552496326669, 'air_conditioner'),\n",
       " (0.053680435681601975, 'car_horn'),\n",
       " (0.31175245334618928, 'children_playing'),\n",
       " (0.019736285610748833, 'dog_bark'),\n",
       " (0.059446802262466153, 'drilling'),\n",
       " (0.093300648831557989, 'engine_idling'),\n",
       " (1.8605243121137103e-06, 'gun_shot'),\n",
       " (0.20499154300224065, 'jackhammer'),\n",
       " (0.024375700986609173, 'siren'),\n",
       " (0.19081971725794714, 'street_music')]"
      ]
     },
     "execution_count": 40,
     "metadata": {},
     "output_type": "execute_result"
    }
   ],
   "source": [
    "y_probs = gnb.predict_proba(X_test)\n",
    "list(zip(y_probs[1], gnb.classes_))"
   ]
  },
  {
   "cell_type": "code",
   "execution_count": 52,
   "metadata": {
    "collapsed": false
   },
   "outputs": [
    {
     "data": {
      "text/plain": [
       "array([  2.98790581e-204,   0.00000000e+000,   0.00000000e+000,\n",
       "         4.92943638e-195,   0.00000000e+000,   0.00000000e+000,\n",
       "         1.00000000e+000,   0.00000000e+000,   0.00000000e+000,\n",
       "         2.09718511e-295])"
      ]
     },
     "execution_count": 52,
     "metadata": {},
     "output_type": "execute_result"
    }
   ],
   "source": [
    "y_probs[0]"
   ]
  },
  {
   "cell_type": "code",
   "execution_count": 90,
   "metadata": {
    "collapsed": false
   },
   "outputs": [
    {
     "data": {
      "text/plain": [
       "[(-3.1725994725271836, 'air_conditioner'),\n",
       " (-2.9247066700773932, 'car_horn'),\n",
       " (-1.165545824858123, 'children_playing'),\n",
       " (-3.9252964282977327, 'dog_bark'),\n",
       " (-2.822673445980552, 'drilling'),\n",
       " (-2.3719282169026661, 'engine_idling'),\n",
       " (-13.19465222172901, 'gun_shot'),\n",
       " (-1.5847865543422905, 'jackhammer'),\n",
       " (-3.71416850408675, 'siren'),\n",
       " (-1.6564261853808055, 'street_music')]"
      ]
     },
     "execution_count": 90,
     "metadata": {},
     "output_type": "execute_result"
    }
   ],
   "source": [
    "y_logprobs = gnb.predict_log_proba(X_test)\n",
    "zip(y_logprobs[1],gnb.classes_)"
   ]
  },
  {
   "cell_type": "code",
   "execution_count": 83,
   "metadata": {
    "collapsed": false
   },
   "outputs": [
    {
     "data": {
      "text/plain": [
       "'children_playing'"
      ]
     },
     "execution_count": 83,
     "metadata": {},
     "output_type": "execute_result"
    }
   ],
   "source": [
    "y_predict[1]"
   ]
  },
  {
   "cell_type": "code",
   "execution_count": 19,
   "metadata": {
    "collapsed": false
   },
   "outputs": [
    {
     "name": "stdout",
     "output_type": "stream",
     "text": [
      "Accuracy: 0.23\n",
      "[[ 1  0  1  1  0  0  0  0  0  5]\n",
      " [ 0  0  4  3  0  1  2  2  0  8]\n",
      " [ 0  1  5  1  0  0  0  4  0 10]\n",
      " [ 1  2 10  9  3  2  5  6  0  5]\n",
      " [ 0  1  3  1  1  3  0  3  0  8]\n",
      " [ 1  0  1  1  1  3  0  1  0  3]\n",
      " [ 1  0  2  7  0  3  7  0  0  0]\n",
      " [ 0  0  0  0  0  0  0  2  0  2]\n",
      " [ 0  0  3  2  1  2  0  2  1  6]\n",
      " [ 1  1  1  0  0  2  0  2  0 13]]\n"
     ]
    }
   ],
   "source": [
    "print('Accuracy: %.2f' % accuracy_score(y_test,y_predict))\n",
    "#print('Precision: %.2f' % precision_score(y_test,y_predict))\n",
    "#print('Recall: %.2f' % recall_score(y_test,y_predict))\n",
    "#print('F1: %.2f' % f1_score(y_test,y_predict))\n",
    "confmat=confusion_matrix(y_true=y_test, y_pred=y_predict)\n",
    "print(confmat)"
   ]
  },
  {
   "cell_type": "code",
   "execution_count": 61,
   "metadata": {
    "collapsed": false
   },
   "outputs": [],
   "source": [
    "# Set up loop to get Accuracy for each class as 1-vs-All\n",
    "def runNBonevsall(var, DF, featList):\n",
    "    # Create new response variable\n",
    "    DF[var] = 0\n",
    "    DF.loc[DF['class'] == var,var] = 1\n",
    "    #feat = list(DF.columns)\n",
    "    #print(feat)\n",
    "    #feat.remove('class')\n",
    "    #feat.remove('Unnamed: 0')\n",
    "    #feat.remove(var)\n",
    "    #print(feat)\n",
    "    X_train, X_test, y_train, y_test = train_test_split(DF.loc[:,featList], DF.loc[:,var], \\\n",
    "                                                        test_size=0.35, random_state=0)\n",
    "    print(var)\n",
    "    \n",
    "    gnb = GaussianNB()\n",
    "    gnb.fit(X_train, y_train)\n",
    "    y_predict = gnb.predict(X_test)\n",
    "    \n",
    "    print('Accuracy: %.2f' % accuracy_score(y_test,y_predict))\n",
    "    print('Precision: %.2f' % precision_score(y_test,y_predict))\n",
    "    print('Recall: %.2f' % recall_score(y_test,y_predict))\n",
    "    print('F1: %.2f' % f1_score(y_test,y_predict))\n",
    "    \n",
    "    confmat=confusion_matrix(y_true=y_test, y_pred=y_predict, labels = [1,0])\n",
    "    print(confmat)\n",
    "    print('\\n')\n",
    "    \n",
    "    return {var:(accuracy_score(y_test,y_predict),precision_score(y_test,y_predict), \\\n",
    "                 recall_score(y_test,y_predict), f1_score(y_test,y_predict))}"
   ]
  },
  {
   "cell_type": "code",
   "execution_count": 62,
   "metadata": {
    "collapsed": false
   },
   "outputs": [
    {
     "name": "stdout",
     "output_type": "stream",
     "text": [
      "siren\n",
      "Accuracy: 0.35\n",
      "Precision: 0.09\n",
      "Recall: 0.74\n",
      "F1: 0.17\n",
      "[[ 14   5]\n",
      " [135  60]]\n",
      "\n",
      "\n",
      "air_conditioner\n",
      "Accuracy: 0.31\n",
      "Precision: 0.05\n",
      "Recall: 0.88\n",
      "F1: 0.09\n",
      "[[  7   1]\n",
      " [146  60]]\n",
      "\n",
      "\n",
      "children_playing\n",
      "Accuracy: 0.48\n",
      "Precision: 0.18\n",
      "Recall: 0.96\n",
      "F1: 0.30\n",
      "[[ 24   1]\n",
      " [110  79]]\n",
      "\n",
      "\n",
      "car_horn\n",
      "Accuracy: 0.33\n",
      "Precision: 0.12\n",
      "Recall: 0.76\n",
      "F1: 0.21\n",
      "[[ 19   6]\n",
      " [137  52]]\n",
      "\n",
      "\n",
      "gun_shot\n",
      "Accuracy: 0.88\n",
      "Precision: 0.45\n",
      "Recall: 0.38\n",
      "F1: 0.41\n",
      "[[  9  15]\n",
      " [ 11 179]]\n",
      "\n",
      "\n",
      "dog_bark\n",
      "Accuracy: 0.28\n",
      "Precision: 0.22\n",
      "Recall: 0.80\n",
      "F1: 0.35\n",
      "[[ 41  10]\n",
      " [145  18]]\n",
      "\n",
      "\n",
      "drilling\n",
      "Accuracy: 0.36\n",
      "Precision: 0.12\n",
      "Recall: 0.82\n",
      "F1: 0.21\n",
      "[[ 18   4]\n",
      " [132  60]]\n",
      "\n",
      "\n",
      "engine_idling\n",
      "Accuracy: 0.33\n",
      "Precision: 0.08\n",
      "Recall: 0.93\n",
      "F1: 0.15\n",
      "[[ 13   1]\n",
      " [142  58]]\n",
      "\n",
      "\n",
      "jackhammer\n",
      "Accuracy: 0.40\n",
      "Precision: 0.03\n",
      "Recall: 1.00\n",
      "F1: 0.06\n",
      "[[  4   0]\n",
      " [128  82]]\n",
      "\n",
      "\n",
      "street_music\n",
      "Accuracy: 0.38\n",
      "Precision: 0.13\n",
      "Recall: 0.91\n",
      "F1: 0.23\n",
      "[[ 20   2]\n",
      " [131  61]]\n",
      "\n",
      "\n"
     ]
    }
   ],
   "source": [
    "resultsNB = [runNBonevsall(var, wavData, feat) for var in classes]"
   ]
  },
  {
   "cell_type": "code",
   "execution_count": 23,
   "metadata": {
    "collapsed": true
   },
   "outputs": [],
   "source": [
    "# Set up loop to get Accuracy for each class as 1-vs-All\n",
    "def runNBstacked(var, X_train, X_test, y_train, y_test):\n",
    "    y_train = y_train[var]\n",
    "    y_test = y_test[var] \n",
    "    \n",
    "    gnb = GaussianNB()\n",
    "    gnb.fit(X_train, y_train)\n",
    "    y_predict = gnb.predict(X_test)\n",
    "    y_probs = gnb.predict_proba(X_test)\n",
    "    \n",
    "    probs1 = list(zip(*y_probs))[1]\n",
    "    print(gnb.classes_)\n",
    "    \n",
    "    #print('Accuracy: %.2f' % accuracy_score(y_test,y_predict))\n",
    "    #print('Precision: %.2f' % precision_score(y_test,y_predict))\n",
    "    #print('Recall: %.2f' % recall_score(y_test,y_predict))\n",
    "    #print('F1: %.2f' % f1_score(y_test,y_predict))\n",
    "    \n",
    "    #confmat=confusion_matrix(y_true=y_test, y_pred=y_predict, labels = [1,0])\n",
    "    #print(confmat)\n",
    "    #print('\\n')\n",
    "    \n",
    "    #return {var:(accuracy_score(y_test,y_predict),precision_score(y_test,y_predict), \\\n",
    "    #             recall_score(y_test,y_predict), f1_score(y_test,y_predict))}\n",
    "    return probs1"
   ]
  },
  {
   "cell_type": "code",
   "execution_count": 42,
   "metadata": {
    "collapsed": false
   },
   "outputs": [],
   "source": [
    "for var in classes:\n",
    "    wavData[var] = 0\n",
    "    wavData.loc[wavData['class'] == var,var] = 1"
   ]
  },
  {
   "cell_type": "code",
   "execution_count": 43,
   "metadata": {
    "collapsed": false
   },
   "outputs": [],
   "source": [
    "X_train, X_test, y_train, y_test = train_test_split(wavData.loc[:,feat], wavData.loc[:,list(classes)], \\\n",
    "                                                        test_size=0.3, random_state=0)"
   ]
  },
  {
   "cell_type": "code",
   "execution_count": 44,
   "metadata": {
    "collapsed": false
   },
   "outputs": [
    {
     "data": {
      "text/html": [
       "<div>\n",
       "<table border=\"1\" class=\"dataframe\">\n",
       "  <thead>\n",
       "    <tr style=\"text-align: right;\">\n",
       "      <th></th>\n",
       "      <th>siren</th>\n",
       "      <th>gun_shot</th>\n",
       "      <th>children_playing</th>\n",
       "      <th>engine_idling</th>\n",
       "      <th>car_horn</th>\n",
       "      <th>drilling</th>\n",
       "      <th>jackhammer</th>\n",
       "      <th>air_conditioner</th>\n",
       "      <th>dog_bark</th>\n",
       "      <th>street_music</th>\n",
       "    </tr>\n",
       "  </thead>\n",
       "  <tbody>\n",
       "    <tr>\n",
       "      <th>717</th>\n",
       "      <td>0</td>\n",
       "      <td>0</td>\n",
       "      <td>0</td>\n",
       "      <td>0</td>\n",
       "      <td>0</td>\n",
       "      <td>0</td>\n",
       "      <td>0</td>\n",
       "      <td>0</td>\n",
       "      <td>1</td>\n",
       "      <td>0</td>\n",
       "    </tr>\n",
       "    <tr>\n",
       "      <th>897</th>\n",
       "      <td>0</td>\n",
       "      <td>0</td>\n",
       "      <td>0</td>\n",
       "      <td>1</td>\n",
       "      <td>0</td>\n",
       "      <td>0</td>\n",
       "      <td>0</td>\n",
       "      <td>0</td>\n",
       "      <td>0</td>\n",
       "      <td>0</td>\n",
       "    </tr>\n",
       "    <tr>\n",
       "      <th>524</th>\n",
       "      <td>0</td>\n",
       "      <td>0</td>\n",
       "      <td>1</td>\n",
       "      <td>0</td>\n",
       "      <td>0</td>\n",
       "      <td>0</td>\n",
       "      <td>0</td>\n",
       "      <td>0</td>\n",
       "      <td>0</td>\n",
       "      <td>0</td>\n",
       "    </tr>\n",
       "    <tr>\n",
       "      <th>333</th>\n",
       "      <td>0</td>\n",
       "      <td>0</td>\n",
       "      <td>0</td>\n",
       "      <td>0</td>\n",
       "      <td>0</td>\n",
       "      <td>1</td>\n",
       "      <td>0</td>\n",
       "      <td>0</td>\n",
       "      <td>0</td>\n",
       "      <td>0</td>\n",
       "    </tr>\n",
       "    <tr>\n",
       "      <th>613</th>\n",
       "      <td>0</td>\n",
       "      <td>0</td>\n",
       "      <td>1</td>\n",
       "      <td>0</td>\n",
       "      <td>0</td>\n",
       "      <td>0</td>\n",
       "      <td>0</td>\n",
       "      <td>0</td>\n",
       "      <td>0</td>\n",
       "      <td>0</td>\n",
       "    </tr>\n",
       "  </tbody>\n",
       "</table>\n",
       "</div>"
      ],
      "text/plain": [
       "     siren  gun_shot  children_playing  engine_idling  car_horn  drilling  \\\n",
       "717      0         0                 0              0         0         0   \n",
       "897      0         0                 0              1         0         0   \n",
       "524      0         0                 1              0         0         0   \n",
       "333      0         0                 0              0         0         1   \n",
       "613      0         0                 1              0         0         0   \n",
       "\n",
       "     jackhammer  air_conditioner  dog_bark  street_music  \n",
       "717           0                0         1             0  \n",
       "897           0                0         0             0  \n",
       "524           0                0         0             0  \n",
       "333           0                0         0             0  \n",
       "613           0                0         0             0  "
      ]
     },
     "execution_count": 44,
     "metadata": {},
     "output_type": "execute_result"
    }
   ],
   "source": [
    "y_train[0:5]"
   ]
  },
  {
   "cell_type": "code",
   "execution_count": 45,
   "metadata": {
    "collapsed": false
   },
   "outputs": [
    {
     "name": "stdout",
     "output_type": "stream",
     "text": [
      "[0 1]\n",
      "[0 1]\n",
      "[0 1]\n",
      "[0 1]\n",
      "[0 1]\n",
      "[0 1]\n",
      "[0 1]\n",
      "[0 1]\n",
      "[0 1]\n",
      "[0 1]\n"
     ]
    }
   ],
   "source": [
    "probsNB = {}\n",
    "for var in classes:\n",
    "    probsNB[var] = runNBstacked(var, X_train, X_test, y_train, y_test)"
   ]
  },
  {
   "cell_type": "code",
   "execution_count": 46,
   "metadata": {
    "collapsed": false
   },
   "outputs": [],
   "source": [
    "probsNB_DF = pd.DataFrame(probsNB)"
   ]
  },
  {
   "cell_type": "code",
   "execution_count": 47,
   "metadata": {
    "collapsed": false
   },
   "outputs": [
    {
     "data": {
      "text/html": [
       "<div>\n",
       "<table border=\"1\" class=\"dataframe\">\n",
       "  <thead>\n",
       "    <tr style=\"text-align: right;\">\n",
       "      <th></th>\n",
       "      <th>air_conditioner</th>\n",
       "      <th>car_horn</th>\n",
       "      <th>children_playing</th>\n",
       "      <th>dog_bark</th>\n",
       "      <th>drilling</th>\n",
       "      <th>engine_idling</th>\n",
       "      <th>gun_shot</th>\n",
       "      <th>jackhammer</th>\n",
       "      <th>siren</th>\n",
       "      <th>street_music</th>\n",
       "    </tr>\n",
       "  </thead>\n",
       "  <tbody>\n",
       "    <tr>\n",
       "      <th>0</th>\n",
       "      <td>5.116845e-124</td>\n",
       "      <td>0.000000e+00</td>\n",
       "      <td>0.000000e+00</td>\n",
       "      <td>1.535959e-127</td>\n",
       "      <td>0.000000</td>\n",
       "      <td>0.000000e+00</td>\n",
       "      <td>1.000000</td>\n",
       "      <td>0.000000e+00</td>\n",
       "      <td>0.000000e+00</td>\n",
       "      <td>4.227919e-219</td>\n",
       "    </tr>\n",
       "    <tr>\n",
       "      <th>1</th>\n",
       "      <td>9.439267e-01</td>\n",
       "      <td>9.581969e-01</td>\n",
       "      <td>9.943343e-01</td>\n",
       "      <td>9.169558e-01</td>\n",
       "      <td>0.965637</td>\n",
       "      <td>9.765647e-01</td>\n",
       "      <td>0.000010</td>\n",
       "      <td>9.882577e-01</td>\n",
       "      <td>9.046644e-01</td>\n",
       "      <td>9.894239e-01</td>\n",
       "    </tr>\n",
       "    <tr>\n",
       "      <th>2</th>\n",
       "      <td>7.694832e-129</td>\n",
       "      <td>3.061638e-96</td>\n",
       "      <td>6.360519e-07</td>\n",
       "      <td>3.564533e-36</td>\n",
       "      <td>0.000000</td>\n",
       "      <td>5.179569e-182</td>\n",
       "      <td>1.000000</td>\n",
       "      <td>6.819094e-226</td>\n",
       "      <td>3.179036e-241</td>\n",
       "      <td>2.635884e-276</td>\n",
       "    </tr>\n",
       "    <tr>\n",
       "      <th>3</th>\n",
       "      <td>2.970149e-01</td>\n",
       "      <td>1.679657e-02</td>\n",
       "      <td>2.659761e-21</td>\n",
       "      <td>9.557133e-01</td>\n",
       "      <td>0.043617</td>\n",
       "      <td>9.999642e-01</td>\n",
       "      <td>0.000061</td>\n",
       "      <td>3.477917e-09</td>\n",
       "      <td>9.867769e-01</td>\n",
       "      <td>8.826682e-01</td>\n",
       "    </tr>\n",
       "    <tr>\n",
       "      <th>4</th>\n",
       "      <td>8.654982e-02</td>\n",
       "      <td>2.069258e-03</td>\n",
       "      <td>1.736786e-25</td>\n",
       "      <td>9.611261e-01</td>\n",
       "      <td>0.001361</td>\n",
       "      <td>9.999500e-01</td>\n",
       "      <td>0.000486</td>\n",
       "      <td>5.917216e-12</td>\n",
       "      <td>9.986835e-01</td>\n",
       "      <td>4.333000e-01</td>\n",
       "    </tr>\n",
       "  </tbody>\n",
       "</table>\n",
       "</div>"
      ],
      "text/plain": [
       "   air_conditioner      car_horn  children_playing       dog_bark  drilling  \\\n",
       "0    5.116845e-124  0.000000e+00      0.000000e+00  1.535959e-127  0.000000   \n",
       "1     9.439267e-01  9.581969e-01      9.943343e-01   9.169558e-01  0.965637   \n",
       "2    7.694832e-129  3.061638e-96      6.360519e-07   3.564533e-36  0.000000   \n",
       "3     2.970149e-01  1.679657e-02      2.659761e-21   9.557133e-01  0.043617   \n",
       "4     8.654982e-02  2.069258e-03      1.736786e-25   9.611261e-01  0.001361   \n",
       "\n",
       "   engine_idling  gun_shot     jackhammer          siren   street_music  \n",
       "0   0.000000e+00  1.000000   0.000000e+00   0.000000e+00  4.227919e-219  \n",
       "1   9.765647e-01  0.000010   9.882577e-01   9.046644e-01   9.894239e-01  \n",
       "2  5.179569e-182  1.000000  6.819094e-226  3.179036e-241  2.635884e-276  \n",
       "3   9.999642e-01  0.000061   3.477917e-09   9.867769e-01   8.826682e-01  \n",
       "4   9.999500e-01  0.000486   5.917216e-12   9.986835e-01   4.333000e-01  "
      ]
     },
     "execution_count": 47,
     "metadata": {},
     "output_type": "execute_result"
    }
   ],
   "source": [
    "probsNB_DF[0:5]"
   ]
  },
  {
   "cell_type": "code",
   "execution_count": 48,
   "metadata": {
    "collapsed": true
   },
   "outputs": [],
   "source": [
    "probsNB_DF['response'] = probsNB_DF.idxmax(axis=1)"
   ]
  },
  {
   "cell_type": "code",
   "execution_count": 49,
   "metadata": {
    "collapsed": true
   },
   "outputs": [],
   "source": [
    "y_predict = probsNB_DF['response']"
   ]
  },
  {
   "cell_type": "code",
   "execution_count": 50,
   "metadata": {
    "collapsed": false
   },
   "outputs": [
    {
     "data": {
      "text/plain": [
       "0            gun_shot\n",
       "1    children_playing\n",
       "2            gun_shot\n",
       "3       engine_idling\n",
       "4       engine_idling\n",
       "Name: response, dtype: object"
      ]
     },
     "execution_count": 50,
     "metadata": {},
     "output_type": "execute_result"
    }
   ],
   "source": [
    "y_predict[0:5]"
   ]
  },
  {
   "cell_type": "code",
   "execution_count": 51,
   "metadata": {
    "collapsed": false
   },
   "outputs": [],
   "source": [
    "y_test = y_test.idxmax(axis=1)"
   ]
  },
  {
   "cell_type": "code",
   "execution_count": 52,
   "metadata": {
    "collapsed": false
   },
   "outputs": [
    {
     "data": {
      "text/plain": [
       "885    dog_bark\n",
       "77     drilling\n",
       "830    gun_shot\n",
       "634    drilling\n",
       "80     dog_bark\n",
       "dtype: object"
      ]
     },
     "execution_count": 52,
     "metadata": {},
     "output_type": "execute_result"
    }
   ],
   "source": [
    "y_test[0:5]"
   ]
  },
  {
   "cell_type": "code",
   "execution_count": 53,
   "metadata": {
    "collapsed": false
   },
   "outputs": [
    {
     "name": "stdout",
     "output_type": "stream",
     "text": [
      "Accuracy: 0.24\n",
      "Precision: 0.31\n",
      "Recall: 0.24\n",
      "F1: 0.21\n"
     ]
    },
    {
     "name": "stderr",
     "output_type": "stream",
     "text": [
      "/Applications/anaconda/lib/python3.4/site-packages/sklearn/metrics/classification.py:1203: DeprecationWarning: The default `weighted` averaging is deprecated, and from version 0.18, use of precision, recall or F-score with multiclass or multilabel data or pos_label=None will result in an exception. Please set an explicit value for `average`, one of (None, 'micro', 'macro', 'weighted', 'samples'). In cross validation use, for instance, scoring=\"f1_weighted\" instead of scoring=\"f1\".\n",
      "  sample_weight=sample_weight)\n",
      "/Applications/anaconda/lib/python3.4/site-packages/sklearn/metrics/classification.py:1304: DeprecationWarning: The default `weighted` averaging is deprecated, and from version 0.18, use of precision, recall or F-score with multiclass or multilabel data or pos_label=None will result in an exception. Please set an explicit value for `average`, one of (None, 'micro', 'macro', 'weighted', 'samples'). In cross validation use, for instance, scoring=\"f1_weighted\" instead of scoring=\"f1\".\n",
      "  sample_weight=sample_weight)\n",
      "/Applications/anaconda/lib/python3.4/site-packages/sklearn/metrics/classification.py:756: DeprecationWarning: The default `weighted` averaging is deprecated, and from version 0.18, use of precision, recall or F-score with multiclass or multilabel data or pos_label=None will result in an exception. Please set an explicit value for `average`, one of (None, 'micro', 'macro', 'weighted', 'samples'). In cross validation use, for instance, scoring=\"f1_weighted\" instead of scoring=\"f1\".\n",
      "  sample_weight=sample_weight)\n"
     ]
    }
   ],
   "source": [
    "print('Accuracy: %.2f' % accuracy_score(y_test,y_predict))\n",
    "print('Precision: %.2f' % precision_score(y_test,y_predict))\n",
    "print('Recall: %.2f' % recall_score(y_test,y_predict))\n",
    "print('F1: %.2f' % f1_score(y_test,y_predict))"
   ]
  },
  {
   "cell_type": "code",
   "execution_count": null,
   "metadata": {
    "collapsed": true
   },
   "outputs": [],
   "source": []
  }
 ],
 "metadata": {
  "kernelspec": {
   "display_name": "Python 3",
   "language": "python",
   "name": "python3"
  },
  "language_info": {
   "codemirror_mode": {
    "name": "ipython",
    "version": 3
   },
   "file_extension": ".py",
   "mimetype": "text/x-python",
   "name": "python",
   "nbconvert_exporter": "python",
   "pygments_lexer": "ipython3",
   "version": "3.4.4"
  }
 },
 "nbformat": 4,
 "nbformat_minor": 0
}
