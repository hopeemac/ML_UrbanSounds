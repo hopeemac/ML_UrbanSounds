{
 "cells": [
  {
   "cell_type": "markdown",
   "metadata": {},
   "source": [
    "# Machine Learning: Urban Sounds DT/RF Classifier"
   ]
  },
  {
   "cell_type": "code",
   "execution_count": 85,
   "metadata": {
    "collapsed": false
   },
   "outputs": [],
   "source": [
    "# Base\n",
    "import numpy as np\n",
    "import pandas as pd\n",
    "import math\n",
    "\n",
    "# Machine Learning\n",
    "from sklearn import datasets, metrics, cross_validation, neural_network\n",
    "\n",
    "from sklearn.preprocessing import StandardScaler\n",
    "\n",
    "from sklearn.cross_validation import train_test_split\n",
    "\n",
    "from sklearn.metrics import accuracy_score, confusion_matrix, precision_score, recall_score, f1_score\n",
    "from sklearn.metrics import mean_squared_error\n",
    "\n",
    "from sknn.mlp import Regressor, Classifier, Layer\n",
    "from sklearn.ensemble import RandomForestClassifier\n",
    "\n",
    "from sklearn.preprocessing import Imputer, OneHotEncoder, LabelEncoder\n",
    "# from sknn.mlp import Regressor, Layer"
   ]
  },
  {
   "cell_type": "code",
   "execution_count": 65,
   "metadata": {
    "collapsed": false
   },
   "outputs": [],
   "source": [
    "# Import Pre-Processed Wav File Data Set\n",
    "wavData = pd.read_csv('feature_quant.csv')"
   ]
  },
  {
   "cell_type": "code",
   "execution_count": 66,
   "metadata": {
    "collapsed": false
   },
   "outputs": [
    {
     "data": {
      "text/html": [
       "<div>\n",
       "<table border=\"1\" class=\"dataframe\">\n",
       "  <thead>\n",
       "    <tr style=\"text-align: right;\">\n",
       "      <th></th>\n",
       "      <th>Unnamed: 0</th>\n",
       "      <th>std</th>\n",
       "      <th>mean</th>\n",
       "      <th>power2</th>\n",
       "      <th>power7</th>\n",
       "      <th>power5</th>\n",
       "      <th>kurtosis</th>\n",
       "      <th>skewness</th>\n",
       "      <th>power10</th>\n",
       "      <th>power4</th>\n",
       "      <th>power9</th>\n",
       "      <th>power6</th>\n",
       "      <th>power1</th>\n",
       "      <th>power8</th>\n",
       "      <th>class</th>\n",
       "      <th>power3</th>\n",
       "    </tr>\n",
       "  </thead>\n",
       "  <tbody>\n",
       "    <tr>\n",
       "      <th>0</th>\n",
       "      <td>100032.wav</td>\n",
       "      <td>5387.262558</td>\n",
       "      <td>-0.173201</td>\n",
       "      <td>0.218719</td>\n",
       "      <td>0.021339</td>\n",
       "      <td>0.107915</td>\n",
       "      <td>8.378661</td>\n",
       "      <td>0.290676</td>\n",
       "      <td>0.004058</td>\n",
       "      <td>0.286047</td>\n",
       "      <td>0.007275</td>\n",
       "      <td>0.049451</td>\n",
       "      <td>0.030802</td>\n",
       "      <td>0.011321</td>\n",
       "      <td>dog_bark</td>\n",
       "      <td>0.263073</td>\n",
       "    </tr>\n",
       "    <tr>\n",
       "      <th>1</th>\n",
       "      <td>100263.wav</td>\n",
       "      <td>172.622405</td>\n",
       "      <td>-2.877835</td>\n",
       "      <td>0.077798</td>\n",
       "      <td>0.102353</td>\n",
       "      <td>0.091911</td>\n",
       "      <td>10.631201</td>\n",
       "      <td>-0.037141</td>\n",
       "      <td>0.094223</td>\n",
       "      <td>0.112095</td>\n",
       "      <td>0.095986</td>\n",
       "      <td>0.145623</td>\n",
       "      <td>0.082727</td>\n",
       "      <td>0.108314</td>\n",
       "      <td>children_playing</td>\n",
       "      <td>0.088970</td>\n",
       "    </tr>\n",
       "    <tr>\n",
       "      <th>2</th>\n",
       "      <td>101729.wav</td>\n",
       "      <td>NaN</td>\n",
       "      <td>NaN</td>\n",
       "      <td>NaN</td>\n",
       "      <td>NaN</td>\n",
       "      <td>NaN</td>\n",
       "      <td>NaN</td>\n",
       "      <td>NaN</td>\n",
       "      <td>NaN</td>\n",
       "      <td>NaN</td>\n",
       "      <td>NaN</td>\n",
       "      <td>NaN</td>\n",
       "      <td>NaN</td>\n",
       "      <td>NaN</td>\n",
       "      <td>air_conditioner</td>\n",
       "      <td>NaN</td>\n",
       "    </tr>\n",
       "    <tr>\n",
       "      <th>3</th>\n",
       "      <td>101848.wav</td>\n",
       "      <td>1100.104596</td>\n",
       "      <td>-0.486906</td>\n",
       "      <td>0.170541</td>\n",
       "      <td>0.056053</td>\n",
       "      <td>0.109598</td>\n",
       "      <td>7.459590</td>\n",
       "      <td>-0.010953</td>\n",
       "      <td>0.053987</td>\n",
       "      <td>0.127636</td>\n",
       "      <td>0.050200</td>\n",
       "      <td>0.066393</td>\n",
       "      <td>0.156979</td>\n",
       "      <td>0.052119</td>\n",
       "      <td>street_music</td>\n",
       "      <td>0.156496</td>\n",
       "    </tr>\n",
       "    <tr>\n",
       "      <th>4</th>\n",
       "      <td>102102.wav</td>\n",
       "      <td>697.540407</td>\n",
       "      <td>-1.028463</td>\n",
       "      <td>0.058669</td>\n",
       "      <td>0.154061</td>\n",
       "      <td>0.125748</td>\n",
       "      <td>11.638605</td>\n",
       "      <td>0.204312</td>\n",
       "      <td>0.098656</td>\n",
       "      <td>0.118089</td>\n",
       "      <td>0.133428</td>\n",
       "      <td>0.113967</td>\n",
       "      <td>0.043734</td>\n",
       "      <td>0.075375</td>\n",
       "      <td>dog_bark</td>\n",
       "      <td>0.078275</td>\n",
       "    </tr>\n",
       "  </tbody>\n",
       "</table>\n",
       "</div>"
      ],
      "text/plain": [
       "   Unnamed: 0          std      mean    power2    power7    power5   kurtosis  \\\n",
       "0  100032.wav  5387.262558 -0.173201  0.218719  0.021339  0.107915   8.378661   \n",
       "1  100263.wav   172.622405 -2.877835  0.077798  0.102353  0.091911  10.631201   \n",
       "2  101729.wav          NaN       NaN       NaN       NaN       NaN        NaN   \n",
       "3  101848.wav  1100.104596 -0.486906  0.170541  0.056053  0.109598   7.459590   \n",
       "4  102102.wav   697.540407 -1.028463  0.058669  0.154061  0.125748  11.638605   \n",
       "\n",
       "   skewness   power10    power4    power9    power6    power1    power8  \\\n",
       "0  0.290676  0.004058  0.286047  0.007275  0.049451  0.030802  0.011321   \n",
       "1 -0.037141  0.094223  0.112095  0.095986  0.145623  0.082727  0.108314   \n",
       "2       NaN       NaN       NaN       NaN       NaN       NaN       NaN   \n",
       "3 -0.010953  0.053987  0.127636  0.050200  0.066393  0.156979  0.052119   \n",
       "4  0.204312  0.098656  0.118089  0.133428  0.113967  0.043734  0.075375   \n",
       "\n",
       "              class    power3  \n",
       "0          dog_bark  0.263073  \n",
       "1  children_playing  0.088970  \n",
       "2   air_conditioner       NaN  \n",
       "3      street_music  0.156496  \n",
       "4          dog_bark  0.078275  "
      ]
     },
     "execution_count": 66,
     "metadata": {},
     "output_type": "execute_result"
    }
   ],
   "source": [
    "wavData[0:5]"
   ]
  },
  {
   "cell_type": "code",
   "execution_count": 67,
   "metadata": {
    "collapsed": false
   },
   "outputs": [],
   "source": [
    "# Remove Empty Rows\n",
    "wavData = wavData[-np.isnan(wavData['mean'])]"
   ]
  },
  {
   "cell_type": "code",
   "execution_count": 68,
   "metadata": {
    "collapsed": false
   },
   "outputs": [
    {
     "data": {
      "text/plain": [
       "611"
      ]
     },
     "execution_count": 68,
     "metadata": {},
     "output_type": "execute_result"
    }
   ],
   "source": [
    "len(wavData)"
   ]
  },
  {
   "cell_type": "code",
   "execution_count": 69,
   "metadata": {
    "collapsed": false
   },
   "outputs": [
    {
     "data": {
      "text/plain": [
       "Counter({'air_conditioner': 26,\n",
       "         'car_horn': 60,\n",
       "         'children_playing': 74,\n",
       "         'dog_bark': 155,\n",
       "         'drilling': 60,\n",
       "         'engine_idling': 48,\n",
       "         'gun_shot': 68,\n",
       "         'jackhammer': 19,\n",
       "         'siren': 43,\n",
       "         'street_music': 58})"
      ]
     },
     "execution_count": 69,
     "metadata": {},
     "output_type": "execute_result"
    }
   ],
   "source": [
    "from collections import Counter\n",
    "Counter(wavData['class'])"
   ]
  },
  {
   "cell_type": "code",
   "execution_count": 7,
   "metadata": {
    "collapsed": false
   },
   "outputs": [
    {
     "data": {
      "text/plain": [
       "['std',\n",
       " 'mean',\n",
       " 'power2',\n",
       " 'power7',\n",
       " 'power5',\n",
       " 'kurtosis',\n",
       " 'skewness',\n",
       " 'power10',\n",
       " 'power4',\n",
       " 'power9',\n",
       " 'power6',\n",
       " 'power1',\n",
       " 'power8',\n",
       " 'power3']"
      ]
     },
     "execution_count": 7,
     "metadata": {},
     "output_type": "execute_result"
    }
   ],
   "source": [
    "feat = list(wavData.columns)\n",
    "feat.remove('class')\n",
    "feat.remove('Unnamed: 0')\n",
    "feat"
   ]
  },
  {
   "cell_type": "code",
   "execution_count": 80,
   "metadata": {
    "collapsed": false
   },
   "outputs": [],
   "source": [
    "X_train, X_test, y_train, y_test = train_test_split(wavData.loc[:,feat], wavData.loc[:,'class'], \\\n",
    "                                                    test_size=0.3, random_state=0)"
   ]
  },
  {
   "cell_type": "code",
   "execution_count": 81,
   "metadata": {
    "collapsed": true
   },
   "outputs": [],
   "source": [
    "sc = StandardScaler()\n",
    "sc=sc.fit(X_train)\n",
    "X_train_std = sc.transform(X_train)\n",
    "X_test_std = sc.transform(X_test)"
   ]
  },
  {
   "cell_type": "markdown",
   "metadata": {},
   "source": [
    "### Decision Tree Classifier"
   ]
  },
  {
   "cell_type": "markdown",
   "metadata": {},
   "source": [
    "With Scaled Variables"
   ]
  },
  {
   "cell_type": "code",
   "execution_count": 119,
   "metadata": {
    "collapsed": true
   },
   "outputs": [],
   "source": [
    "from sklearn.tree import DecisionTreeClassifier\n",
    "tree = DecisionTreeClassifier(criterion = 'entropy', max_depth=8)\n",
    "tree.fit(X_train_std, y_train)\n",
    "y_predict = tree.predict(X_test_std)"
   ]
  },
  {
   "cell_type": "code",
   "execution_count": 120,
   "metadata": {
    "collapsed": false
   },
   "outputs": [
    {
     "name": "stdout",
     "output_type": "stream",
     "text": [
      "Accuracy: 0.32\n",
      "[[ 1  0  1  1  1  0  1  1  0  2]\n",
      " [ 1  1  1  5  2  2  3  0  2  3]\n",
      " [ 0  2  5  5  3  0  0  0  1  5]\n",
      " [ 1  3  3 25  1  1  7  0  1  1]\n",
      " [ 1  1  1  5  5  0  0  0  3  4]\n",
      " [ 1  0  0  3  0  4  1  0  0  2]\n",
      " [ 0  1  3  6  0  1  7  0  2  0]\n",
      " [ 1  0  0  1  1  0  0  0  0  1]\n",
      " [ 1  2  1  6  0  4  0  0  1  2]\n",
      " [ 0  2  2  3  2  1  0  0  0 10]]\n"
     ]
    }
   ],
   "source": [
    "from sklearn.metrics import accuracy_score\n",
    "print('Accuracy: %.2f' % accuracy_score(y_test,y_predict))\n",
    "from sklearn.metrics import confusion_matrix\n",
    "confmat=confusion_matrix(y_true=y_test, y_pred=y_predict)\n",
    "print(confmat)"
   ]
  },
  {
   "cell_type": "markdown",
   "metadata": {},
   "source": [
    "### Create Heat Map to Show Class by Class Performance"
   ]
  },
  {
   "cell_type": "code",
   "execution_count": 121,
   "metadata": {
    "collapsed": false
   },
   "outputs": [
    {
     "name": "stdout",
     "output_type": "stream",
     "text": [
      "High five! You successfuly sent some data to your account on plotly. View your plot in your browser at https://plot.ly/~hm7zg/0 or inside your plot.ly account where it is named 'basic-heatmap'\n"
     ]
    }
   ],
   "source": [
    "import plotly.plotly as py\n",
    "import plotly.graph_objs as go\n",
    "from plotly.offline import download_plotlyjs, init_notebook_mode, iplot\n",
    "plotly.offline.init_notebook_mode()\n",
    "init_notebook_mode()\n",
    "\n",
    "py.sign_in('hm7zg', 'b8nrsfeca7')\n",
    "\n",
    "data = [\n",
    "    go.Heatmap(\n",
    "        z=confmat\n",
    "    )\n",
    "]\n",
    "plot_url = py.plot(data, filename='basic-heatmap')"
   ]
  },
  {
   "cell_type": "markdown",
   "metadata": {},
   "source": [
    "Notes from Parameter exploration: No difference in accuracy between 'gini' and 'entropy.' No difference accuracy decreased at max_depth = 10, worse at max_depth = 4. class_weight = \"balanced\" decreased accuracy to 0.24"
   ]
  },
  {
   "cell_type": "markdown",
   "metadata": {},
   "source": [
    "Without Scaled Variables"
   ]
  },
  {
   "cell_type": "code",
   "execution_count": 122,
   "metadata": {
    "collapsed": true
   },
   "outputs": [],
   "source": [
    "from sklearn.tree import DecisionTreeClassifier\n",
    "tree = DecisionTreeClassifier(criterion = 'entropy', max_depth=3, random_state=0)\n",
    "tree.fit(X_train, y_train)\n",
    "y_predict = tree.predict(X_test)"
   ]
  },
  {
   "cell_type": "code",
   "execution_count": 123,
   "metadata": {
    "collapsed": false
   },
   "outputs": [
    {
     "name": "stdout",
     "output_type": "stream",
     "text": [
      "Accuracy: 0.30\n",
      "[[ 0  0  0  3  1  0  0  0  0  4]\n",
      " [ 0  0  0  8  2  1  1  0  0  8]\n",
      " [ 0  0  0 10  3  0  0  0  0  8]\n",
      " [ 0  0  0 32  5  1  3  0  0  2]\n",
      " [ 0  0  0  6  8  1  0  0  0  5]\n",
      " [ 0  0  0  5  1  1  0  0  0  4]\n",
      " [ 0  0  0 13  1  2  4  0  0  0]\n",
      " [ 0  0  0  1  1  0  0  0  0  2]\n",
      " [ 0  0  0  5  6  0  1  0  0  5]\n",
      " [ 0  0  0  5  2  2  0  0  0 11]]\n"
     ]
    }
   ],
   "source": [
    "from sklearn.metrics import accuracy_score\n",
    "print('Accuracy: %.2f' % accuracy_score(y_test,y_predict))\n",
    "from sklearn.metrics import confusion_matrix\n",
    "confmat=confusion_matrix(y_true=y_test, y_pred=y_predict)\n",
    "print(confmat)"
   ]
  },
  {
   "cell_type": "code",
   "execution_count": null,
   "metadata": {
    "collapsed": true
   },
   "outputs": [],
   "source": []
  },
  {
   "cell_type": "code",
   "execution_count": null,
   "metadata": {
    "collapsed": true
   },
   "outputs": [],
   "source": []
  },
  {
   "cell_type": "code",
   "execution_count": null,
   "metadata": {
    "collapsed": true
   },
   "outputs": [],
   "source": []
  },
  {
   "cell_type": "code",
   "execution_count": null,
   "metadata": {
    "collapsed": true
   },
   "outputs": [],
   "source": []
  },
  {
   "cell_type": "code",
   "execution_count": null,
   "metadata": {
    "collapsed": true
   },
   "outputs": [],
   "source": []
  },
  {
   "cell_type": "code",
   "execution_count": null,
   "metadata": {
    "collapsed": true
   },
   "outputs": [],
   "source": []
  },
  {
   "cell_type": "markdown",
   "metadata": {},
   "source": [
    "### Random Forest Classifier"
   ]
  },
  {
   "cell_type": "code",
   "execution_count": 133,
   "metadata": {
    "collapsed": false
   },
   "outputs": [
    {
     "data": {
      "text/plain": [
       "RandomForestClassifier(bootstrap=True, class_weight='balanced',\n",
       "            criterion='entropy', max_depth=None, max_features='auto',\n",
       "            max_leaf_nodes=None, min_samples_leaf=1, min_samples_split=2,\n",
       "            min_weight_fraction_leaf=0.0, n_estimators=10, n_jobs=2,\n",
       "            oob_score=False, random_state=1, verbose=0, warm_start=False)"
      ]
     },
     "execution_count": 133,
     "metadata": {},
     "output_type": "execute_result"
    }
   ],
   "source": [
    "\n",
    "\n",
    "forest = RandomForestClassifier(criterion='entropy',n_estimators=10, class_weight=\"balanced\",\n",
    "                               random_state=1,\n",
    "                               n_jobs=2)\n",
    "forest.fit(X_train, y_train)"
   ]
  },
  {
   "cell_type": "code",
   "execution_count": 134,
   "metadata": {
    "collapsed": true
   },
   "outputs": [],
   "source": [
    "y_predict = forest.predict(X_test)"
   ]
  },
  {
   "cell_type": "code",
   "execution_count": 95,
   "metadata": {
    "collapsed": false
   },
   "outputs": [
    {
     "data": {
      "text/plain": [
       "array([1, 0, 1, 0, 0])"
      ]
     },
     "execution_count": 95,
     "metadata": {},
     "output_type": "execute_result"
    }
   ],
   "source": [
    "y_predict[0:5]"
   ]
  },
  {
   "cell_type": "code",
   "execution_count": 136,
   "metadata": {
    "collapsed": false
   },
   "outputs": [
    {
     "name": "stdout",
     "output_type": "stream",
     "text": [
      "Accuracy: 0.35\n",
      "[[ 3  1  0  3  1  0  0  0  0  0]\n",
      " [ 2  1  4  8  1  0  1  0  1  2]\n",
      " [ 0  0 10  8  0  0  0  0  0  3]\n",
      " [ 1  2  7 24  1  2  3  1  0  2]\n",
      " [ 0  4  3  5  5  0  1  0  0  2]\n",
      " [ 2  1  1  3  1  2  0  0  0  1]\n",
      " [ 0  0  1  5  0  2 12  0  0  0]\n",
      " [ 0  0  0  2  0  1  0  0  0  1]\n",
      " [ 3  2  1  6  4  0  0  0  0  1]\n",
      " [ 0  2  2  4  0  4  0  0  0  8]]\n"
     ]
    }
   ],
   "source": [
    "from sklearn.metrics import accuracy_score\n",
    "print('Accuracy: %.2f' % accuracy_score(y_test,y_predict))\n",
    "from sklearn.metrics import confusion_matrix\n",
    "confmat=confusion_matrix(y_true=y_test, y_pred=y_predict)\n",
    "print(confmat)"
   ]
  },
  {
   "cell_type": "markdown",
   "metadata": {},
   "source": [
    "Notes on Parameter Exploration: class_weight of balanced in decision trees improved accuracy by 0.05"
   ]
  },
  {
   "cell_type": "markdown",
   "metadata": {
    "collapsed": true
   },
   "source": [
    "### Using 1-vs-All Classification"
   ]
  },
  {
   "cell_type": "code",
   "execution_count": 27,
   "metadata": {
    "collapsed": false
   },
   "outputs": [],
   "source": [
    "# Create new response variable\n",
    "wavData['gunflag'] = 0\n",
    "wavData.loc[wavData['class'] == 'gun_shot','gunflag'] = 1"
   ]
  },
  {
   "cell_type": "code",
   "execution_count": 41,
   "metadata": {
    "collapsed": false
   },
   "outputs": [
    {
     "data": {
      "text/plain": [
       "['std',\n",
       " 'mean',\n",
       " 'power2',\n",
       " 'power7',\n",
       " 'power5',\n",
       " 'kurtosis',\n",
       " 'skewness',\n",
       " 'power10',\n",
       " 'power4',\n",
       " 'power9',\n",
       " 'power6',\n",
       " 'power1',\n",
       " 'power8',\n",
       " 'power3']"
      ]
     },
     "execution_count": 41,
     "metadata": {},
     "output_type": "execute_result"
    }
   ],
   "source": [
    "feat = list(wavData.columns)\n",
    "feat.remove('class')\n",
    "feat.remove('Unnamed: 0')\n",
    "feat.remove('gunflag')\n",
    "feat"
   ]
  },
  {
   "cell_type": "code",
   "execution_count": 51,
   "metadata": {
    "collapsed": true
   },
   "outputs": [],
   "source": [
    "X_train, X_test, y_train, y_test = train_test_split(wavData.loc[:,feat], wavData.loc[:,'gunflag'], \\\n",
    "                                                    test_size=0.35, random_state=0)"
   ]
  },
  {
   "cell_type": "code",
   "execution_count": 52,
   "metadata": {
    "collapsed": false
   },
   "outputs": [
    {
     "data": {
      "text/plain": [
       "RandomForestClassifier(bootstrap=True, class_weight=None, criterion='entropy',\n",
       "            max_depth=None, max_features='auto', max_leaf_nodes=None,\n",
       "            min_samples_leaf=1, min_samples_split=2,\n",
       "            min_weight_fraction_leaf=0.0, n_estimators=10, n_jobs=2,\n",
       "            oob_score=False, random_state=1, verbose=0, warm_start=False)"
      ]
     },
     "execution_count": 52,
     "metadata": {},
     "output_type": "execute_result"
    }
   ],
   "source": [
    "forest = RandomForestClassifier(criterion='entropy',n_estimators=10,\n",
    "                               random_state=1,\n",
    "                               n_jobs=2)\n",
    "forest.fit(X_train, y_train)"
   ]
  },
  {
   "cell_type": "code",
   "execution_count": 53,
   "metadata": {
    "collapsed": true
   },
   "outputs": [],
   "source": [
    "y_predict = forest.predict(X_test)"
   ]
  },
  {
   "cell_type": "code",
   "execution_count": 54,
   "metadata": {
    "collapsed": false
   },
   "outputs": [
    {
     "name": "stdout",
     "output_type": "stream",
     "text": [
      "Accuracy: 0.91\n",
      "[[185   5]\n",
      " [ 14  10]]\n"
     ]
    }
   ],
   "source": [
    "print('Accuracy: %.2f' % accuracy_score(y_test,y_predict))\n",
    "from sklearn.metrics import confusion_matrix\n",
    "confmat=confusion_matrix(y_true=y_test, y_pred=y_predict)\n",
    "print(confmat)"
   ]
  },
  {
   "cell_type": "code",
   "execution_count": 46,
   "metadata": {
    "collapsed": false
   },
   "outputs": [
    {
     "data": {
      "text/plain": [
       "20"
      ]
     },
     "execution_count": 46,
     "metadata": {},
     "output_type": "execute_result"
    }
   ],
   "source": [
    "y_test.sum()"
   ]
  },
  {
   "cell_type": "code",
   "execution_count": 91,
   "metadata": {
    "collapsed": true
   },
   "outputs": [],
   "source": [
    "# Set up loop to get Accuracy for each class as 1-vs-All\n",
    "def runRFonevsall(var, wavData):\n",
    "    # Create new response variable\n",
    "    wavData[var] = 0\n",
    "    wavData.loc[wavData['class'] == var,var] = 1\n",
    "    feat = list(wavData.columns)\n",
    "    #print(feat)\n",
    "    feat.remove('class')\n",
    "    feat.remove('Unnamed: 0')\n",
    "    feat.remove(var)\n",
    "    #print(feat)\n",
    "    X_train, X_test, y_train, y_test = train_test_split(wavData.loc[:,feat], wavData.loc[:,var], \\\n",
    "                                                        test_size=0.35, random_state=0)\n",
    "    print(var)\n",
    "    forest = RandomForestClassifier(criterion='entropy',n_estimators=10,\n",
    "                                   random_state=1,\n",
    "                                   n_jobs=2)\n",
    "    forest.fit(X_train, y_train)\n",
    "    y_predict = forest.predict(X_test)\n",
    "    print('Accuracy: %.2f' % accuracy_score(y_test,y_predict))\n",
    "    print('Precision: %.2f' % precision_score(y_test,y_predict))\n",
    "    print('Recall: %.2f' % recall_score(y_test,y_predict))\n",
    "    print('F1: %.2f' % f1_score(y_test,y_predict))\n",
    "    from sklearn.metrics import confusion_matrix\n",
    "    confmat=confusion_matrix(y_true=y_test, y_pred=y_predict)\n",
    "    print(confmat)\n",
    "    y_test.sum()"
   ]
  },
  {
   "cell_type": "code",
   "execution_count": 92,
   "metadata": {
    "collapsed": false
   },
   "outputs": [
    {
     "name": "stdout",
     "output_type": "stream",
     "text": [
      "gun_shot\n",
      "Accuracy: 0.93\n",
      "Precision: 0.91\n",
      "Recall: 0.42\n",
      "F1: 0.57\n",
      "[[189   1]\n",
      " [ 14  10]]\n"
     ]
    }
   ],
   "source": [
    "runRFonevsall('gun_shot', wavData)"
   ]
  },
  {
   "cell_type": "code",
   "execution_count": null,
   "metadata": {
    "collapsed": true
   },
   "outputs": [],
   "source": []
  },
  {
   "cell_type": "code",
   "execution_count": 93,
   "metadata": {
    "collapsed": false
   },
   "outputs": [
    {
     "data": {
      "text/plain": [
       "{'air_conditioner',\n",
       " 'car_horn',\n",
       " 'children_playing',\n",
       " 'dog_bark',\n",
       " 'drilling',\n",
       " 'engine_idling',\n",
       " 'gun_shot',\n",
       " 'jackhammer',\n",
       " 'siren',\n",
       " 'street_music'}"
      ]
     },
     "execution_count": 93,
     "metadata": {},
     "output_type": "execute_result"
    }
   ],
   "source": [
    "classes = set(wavData['class']); classes"
   ]
  },
  {
   "cell_type": "code",
   "execution_count": 94,
   "metadata": {
    "collapsed": false
   },
   "outputs": [
    {
     "name": "stdout",
     "output_type": "stream",
     "text": [
      "siren\n",
      "Accuracy: 0.91\n",
      "Precision: 0.00\n",
      "Recall: 0.00\n",
      "F1: 0.00\n",
      "[[195   0]\n",
      " [ 19   0]]\n",
      "air_conditioner\n",
      "Accuracy: 0.96\n",
      "Precision: 0.00\n",
      "Recall: 0.00\n",
      "F1: 0.00\n",
      "[[205   1]\n",
      " [  8   0]]\n",
      "children_playing\n",
      "Accuracy: 0.89\n",
      "Precision: 0.62\n",
      "Recall: 0.20\n",
      "F1: 0.30\n",
      "[[186   3]\n",
      " [ 20   5]]\n",
      "car_horn\n",
      "Accuracy: 0.89\n",
      "Precision: 1.00\n",
      "Recall: 0.04\n",
      "F1: 0.08\n",
      "[[189   0]\n",
      " [ 24   1]]\n",
      "gun_shot\n",
      "Accuracy: 0.93\n",
      "Precision: 0.91\n",
      "Recall: 0.42\n",
      "F1: 0.57\n",
      "[[189   1]\n",
      " [ 14  10]]\n",
      "dog_bark\n",
      "Accuracy: 0.83\n",
      "Precision: 0.80\n",
      "Recall: 0.39\n",
      "F1: 0.53\n",
      "[[158   5]\n",
      " [ 31  20]]\n",
      "drilling\n",
      "Accuracy: 0.91\n",
      "Precision: 1.00\n",
      "Recall: 0.14\n",
      "F1: 0.24\n",
      "[[192   0]\n",
      " [ 19   3]]\n",
      "engine_idling\n",
      "Accuracy: 0.94\n",
      "Precision: 1.00\n",
      "Recall: 0.07\n",
      "F1: 0.13\n",
      "[[200   0]\n",
      " [ 13   1]]\n",
      "jackhammer\n",
      "Accuracy: 0.98\n",
      "Precision: 0.00\n",
      "Recall: 0.00\n",
      "F1: 0.00\n",
      "[[210   0]\n",
      " [  4   0]]\n",
      "street_music\n",
      "Accuracy: 0.90\n",
      "Precision: 0.50\n",
      "Recall: 0.05\n",
      "F1: 0.08\n",
      "[[191   1]\n",
      " [ 21   1]]\n"
     ]
    },
    {
     "data": {
      "text/plain": [
       "[None, None, None, None, None, None, None, None, None, None]"
      ]
     },
     "execution_count": 94,
     "metadata": {},
     "output_type": "execute_result"
    }
   ],
   "source": [
    "[runRFonevsall(var, wavData) for var in classes]"
   ]
  },
  {
   "cell_type": "code",
   "execution_count": null,
   "metadata": {
    "collapsed": true
   },
   "outputs": [],
   "source": []
  }
 ],
 "metadata": {
  "kernelspec": {
   "display_name": "Python 2",
   "language": "python",
   "name": "python2"
  },
  "language_info": {
   "codemirror_mode": {
    "name": "ipython",
    "version": 2
   },
   "file_extension": ".py",
   "mimetype": "text/x-python",
   "name": "python",
   "nbconvert_exporter": "python",
   "pygments_lexer": "ipython2",
   "version": "2.7.11"
  }
 },
 "nbformat": 4,
 "nbformat_minor": 0
}
